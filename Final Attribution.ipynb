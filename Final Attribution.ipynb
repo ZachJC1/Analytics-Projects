{
 "cells": [
  {
   "cell_type": "markdown",
   "metadata": {},
   "source": [
    "## Consumption"
   ]
  },
  {
   "cell_type": "markdown",
   "metadata": {},
   "source": [
    "#### Prepare Data"
   ]
  },
  {
   "cell_type": "code",
   "execution_count": 1461,
   "metadata": {},
   "outputs": [],
   "source": [
    "#import packages\n",
    "import pandas as pd\n",
    "import numpy as np\n",
    "import seaborn as sns\n",
    "import matplotlib.pyplot as plt\n",
    "import plotly.graph_objs as go\n",
    "import plotly.express as px"
   ]
  },
  {
   "cell_type": "code",
   "execution_count": 1462,
   "metadata": {},
   "outputs": [],
   "source": [
    "consumption = pd.read_csv('product_sums.csv')"
   ]
  },
  {
   "cell_type": "code",
   "execution_count": 1463,
   "metadata": {},
   "outputs": [
    {
     "data": {
      "text/html": [
       "<div>\n",
       "<style scoped>\n",
       "    .dataframe tbody tr th:only-of-type {\n",
       "        vertical-align: middle;\n",
       "    }\n",
       "\n",
       "    .dataframe tbody tr th {\n",
       "        vertical-align: top;\n",
       "    }\n",
       "\n",
       "    .dataframe thead th {\n",
       "        text-align: right;\n",
       "    }\n",
       "</style>\n",
       "<table border=\"1\" class=\"dataframe\">\n",
       "  <thead>\n",
       "    <tr style=\"text-align: right;\">\n",
       "      <th></th>\n",
       "      <th>Unnamed: 0</th>\n",
       "      <th>Product</th>\n",
       "      <th>Week</th>\n",
       "      <th>value</th>\n",
       "    </tr>\n",
       "  </thead>\n",
       "  <tbody>\n",
       "    <tr>\n",
       "      <td>0</td>\n",
       "      <td>0</td>\n",
       "      <td>04 Total King's Hawaiian</td>\n",
       "      <td>2015-01-11</td>\n",
       "      <td>1.212313e+06</td>\n",
       "    </tr>\n",
       "    <tr>\n",
       "      <td>1</td>\n",
       "      <td>1</td>\n",
       "      <td>04 Total King's Hawaiian</td>\n",
       "      <td>2015-01-18</td>\n",
       "      <td>1.203549e+06</td>\n",
       "    </tr>\n",
       "    <tr>\n",
       "      <td>2</td>\n",
       "      <td>2</td>\n",
       "      <td>04 Total King's Hawaiian</td>\n",
       "      <td>2015-01-25</td>\n",
       "      <td>1.160706e+06</td>\n",
       "    </tr>\n",
       "    <tr>\n",
       "      <td>3</td>\n",
       "      <td>3</td>\n",
       "      <td>04 Total King's Hawaiian</td>\n",
       "      <td>2015-02-01</td>\n",
       "      <td>1.452439e+06</td>\n",
       "    </tr>\n",
       "    <tr>\n",
       "      <td>4</td>\n",
       "      <td>4</td>\n",
       "      <td>04 Total King's Hawaiian</td>\n",
       "      <td>2015-02-08</td>\n",
       "      <td>1.305004e+06</td>\n",
       "    </tr>\n",
       "  </tbody>\n",
       "</table>\n",
       "</div>"
      ],
      "text/plain": [
       "   Unnamed: 0                   Product        Week         value\n",
       "0           0  04 Total King's Hawaiian  2015-01-11  1.212313e+06\n",
       "1           1  04 Total King's Hawaiian  2015-01-18  1.203549e+06\n",
       "2           2  04 Total King's Hawaiian  2015-01-25  1.160706e+06\n",
       "3           3  04 Total King's Hawaiian  2015-02-01  1.452439e+06\n",
       "4           4  04 Total King's Hawaiian  2015-02-08  1.305004e+06"
      ]
     },
     "execution_count": 1463,
     "metadata": {},
     "output_type": "execute_result"
    }
   ],
   "source": [
    "consumption.head()"
   ]
  },
  {
   "cell_type": "code",
   "execution_count": 1464,
   "metadata": {},
   "outputs": [],
   "source": [
    "tc = consumption.loc[consumption['Week'] >= '2015-12-31']"
   ]
  },
  {
   "cell_type": "code",
   "execution_count": 1465,
   "metadata": {},
   "outputs": [
    {
     "data": {
      "text/plain": [
       "246"
      ]
     },
     "execution_count": 1465,
     "metadata": {},
     "output_type": "execute_result"
    }
   ],
   "source": [
    "len(tc)"
   ]
  },
  {
   "cell_type": "markdown",
   "metadata": {},
   "source": [
    "### Load in media"
   ]
  },
  {
   "cell_type": "code",
   "execution_count": 1466,
   "metadata": {},
   "outputs": [],
   "source": [
    "media = pd.read_csv('media_DB.csv',index_col=0)"
   ]
  },
  {
   "cell_type": "code",
   "execution_count": 1467,
   "metadata": {
    "scrolled": false
   },
   "outputs": [
    {
     "data": {
      "text/html": [
       "<div>\n",
       "<style scoped>\n",
       "    .dataframe tbody tr th:only-of-type {\n",
       "        vertical-align: middle;\n",
       "    }\n",
       "\n",
       "    .dataframe tbody tr th {\n",
       "        vertical-align: top;\n",
       "    }\n",
       "\n",
       "    .dataframe thead th {\n",
       "        text-align: right;\n",
       "    }\n",
       "</style>\n",
       "<table border=\"1\" class=\"dataframe\">\n",
       "  <thead>\n",
       "    <tr style=\"text-align: right;\">\n",
       "      <th></th>\n",
       "      <th>Media</th>\n",
       "      <th>Date</th>\n",
       "      <th>Week</th>\n",
       "      <th>AMT</th>\n",
       "      <th>Media Type</th>\n",
       "      <th>Year</th>\n",
       "      <th>Month</th>\n",
       "      <th>Quarter</th>\n",
       "    </tr>\n",
       "  </thead>\n",
       "  <tbody>\n",
       "    <tr>\n",
       "      <td>0</td>\n",
       "      <td>Academy Awards :30</td>\n",
       "      <td>2015-12-28</td>\n",
       "      <td>53</td>\n",
       "      <td>0.0</td>\n",
       "      <td>TV</td>\n",
       "      <td>2015</td>\n",
       "      <td>12</td>\n",
       "      <td>4</td>\n",
       "    </tr>\n",
       "    <tr>\n",
       "      <td>1</td>\n",
       "      <td>GMA Summer Concert (Prod)</td>\n",
       "      <td>2015-12-28</td>\n",
       "      <td>53</td>\n",
       "      <td>0.0</td>\n",
       "      <td>TV</td>\n",
       "      <td>2015</td>\n",
       "      <td>12</td>\n",
       "      <td>4</td>\n",
       "    </tr>\n",
       "    <tr>\n",
       "      <td>2</td>\n",
       "      <td>GMA Summer Concert (TV)</td>\n",
       "      <td>2015-12-28</td>\n",
       "      <td>53</td>\n",
       "      <td>0.0</td>\n",
       "      <td>TV</td>\n",
       "      <td>2015</td>\n",
       "      <td>12</td>\n",
       "      <td>4</td>\n",
       "    </tr>\n",
       "    <tr>\n",
       "      <td>3</td>\n",
       "      <td>GMA Summer Concert (Digital)</td>\n",
       "      <td>2015-12-28</td>\n",
       "      <td>53</td>\n",
       "      <td>0.0</td>\n",
       "      <td>DIGITAL</td>\n",
       "      <td>2015</td>\n",
       "      <td>12</td>\n",
       "      <td>4</td>\n",
       "    </tr>\n",
       "    <tr>\n",
       "      <td>4</td>\n",
       "      <td>GMA TV</td>\n",
       "      <td>2015-12-28</td>\n",
       "      <td>53</td>\n",
       "      <td>0.0</td>\n",
       "      <td>TV</td>\n",
       "      <td>2015</td>\n",
       "      <td>12</td>\n",
       "      <td>4</td>\n",
       "    </tr>\n",
       "  </tbody>\n",
       "</table>\n",
       "</div>"
      ],
      "text/plain": [
       "                          Media        Date  Week  AMT Media Type  Year  \\\n",
       "0            Academy Awards :30  2015-12-28    53  0.0         TV  2015   \n",
       "1     GMA Summer Concert (Prod)  2015-12-28    53  0.0         TV  2015   \n",
       "2       GMA Summer Concert (TV)  2015-12-28    53  0.0         TV  2015   \n",
       "3  GMA Summer Concert (Digital)  2015-12-28    53  0.0    DIGITAL  2015   \n",
       "4                        GMA TV  2015-12-28    53  0.0         TV  2015   \n",
       "\n",
       "   Month  Quarter  \n",
       "0     12        4  \n",
       "1     12        4  \n",
       "2     12        4  \n",
       "3     12        4  \n",
       "4     12        4  "
      ]
     },
     "execution_count": 1467,
     "metadata": {},
     "output_type": "execute_result"
    }
   ],
   "source": [
    "media.head()"
   ]
  },
  {
   "cell_type": "code",
   "execution_count": 1468,
   "metadata": {},
   "outputs": [],
   "source": [
    "media_spend = media[['Date', 'AMT', 'Media Type']]"
   ]
  },
  {
   "cell_type": "markdown",
   "metadata": {},
   "source": [
    "### Start working with data"
   ]
  },
  {
   "cell_type": "markdown",
   "metadata": {},
   "source": [
    "### Merging media spend and consumption by week"
   ]
  },
  {
   "cell_type": "code",
   "execution_count": 1469,
   "metadata": {},
   "outputs": [],
   "source": [
    "media_spend = media_spend.loc[media_spend['Date'] > '2015-12-31']"
   ]
  },
  {
   "cell_type": "code",
   "execution_count": 1470,
   "metadata": {},
   "outputs": [],
   "source": [
    "media_spend['Month'] = pd.DatetimeIndex(media_spend['Date']).month\n",
    "media_spend['Year'] = pd.DatetimeIndex(media_spend['Date']).year"
   ]
  },
  {
   "cell_type": "code",
   "execution_count": 1471,
   "metadata": {},
   "outputs": [],
   "source": [
    "media_spend = media_spend.drop_duplicates()"
   ]
  },
  {
   "cell_type": "code",
   "execution_count": 1472,
   "metadata": {},
   "outputs": [
    {
     "data": {
      "text/plain": [
       "253"
      ]
     },
     "execution_count": 1472,
     "metadata": {},
     "output_type": "execute_result"
    }
   ],
   "source": [
    "week_cat_spend = media_spend.groupby(['Media Type', 'Date', 'Month']).agg({'AMT':'mean'})\n",
    "\n",
    "ovr_weekly_spend = media_spend.groupby(['Date']).agg({'AMT':'sum'}).reset_index()\n",
    "\n",
    "len(media_spend['Date'].unique())"
   ]
  },
  {
   "cell_type": "code",
   "execution_count": 1473,
   "metadata": {},
   "outputs": [],
   "source": [
    "ows = ovr_weekly_spend.iloc[:len(tc['Week'].unique()), :]"
   ]
  },
  {
   "cell_type": "code",
   "execution_count": 1474,
   "metadata": {},
   "outputs": [
    {
     "data": {
      "text/html": [
       "<div>\n",
       "<style scoped>\n",
       "    .dataframe tbody tr th:only-of-type {\n",
       "        vertical-align: middle;\n",
       "    }\n",
       "\n",
       "    .dataframe tbody tr th {\n",
       "        vertical-align: top;\n",
       "    }\n",
       "\n",
       "    .dataframe thead th {\n",
       "        text-align: right;\n",
       "    }\n",
       "</style>\n",
       "<table border=\"1\" class=\"dataframe\">\n",
       "  <thead>\n",
       "    <tr style=\"text-align: right;\">\n",
       "      <th></th>\n",
       "      <th>Date</th>\n",
       "      <th>AMT</th>\n",
       "    </tr>\n",
       "  </thead>\n",
       "  <tbody>\n",
       "    <tr>\n",
       "      <td>0</td>\n",
       "      <td>2016-01-04</td>\n",
       "      <td>0.000000</td>\n",
       "    </tr>\n",
       "    <tr>\n",
       "      <td>1</td>\n",
       "      <td>2016-01-11</td>\n",
       "      <td>0.000000</td>\n",
       "    </tr>\n",
       "    <tr>\n",
       "      <td>2</td>\n",
       "      <td>2016-01-18</td>\n",
       "      <td>0.000000</td>\n",
       "    </tr>\n",
       "    <tr>\n",
       "      <td>3</td>\n",
       "      <td>2016-01-25</td>\n",
       "      <td>392668.929619</td>\n",
       "    </tr>\n",
       "    <tr>\n",
       "      <td>4</td>\n",
       "      <td>2016-02-01</td>\n",
       "      <td>792668.929619</td>\n",
       "    </tr>\n",
       "    <tr>\n",
       "      <td>...</td>\n",
       "      <td>...</td>\n",
       "      <td>...</td>\n",
       "    </tr>\n",
       "    <tr>\n",
       "      <td>241</td>\n",
       "      <td>2020-09-28</td>\n",
       "      <td>335142.750000</td>\n",
       "    </tr>\n",
       "    <tr>\n",
       "      <td>242</td>\n",
       "      <td>2020-10-05</td>\n",
       "      <td>335561.300000</td>\n",
       "    </tr>\n",
       "    <tr>\n",
       "      <td>243</td>\n",
       "      <td>2020-10-12</td>\n",
       "      <td>157140.600000</td>\n",
       "    </tr>\n",
       "    <tr>\n",
       "      <td>244</td>\n",
       "      <td>2020-10-19</td>\n",
       "      <td>141917.950000</td>\n",
       "    </tr>\n",
       "    <tr>\n",
       "      <td>245</td>\n",
       "      <td>2020-10-26</td>\n",
       "      <td>1600.000000</td>\n",
       "    </tr>\n",
       "  </tbody>\n",
       "</table>\n",
       "<p>246 rows × 2 columns</p>\n",
       "</div>"
      ],
      "text/plain": [
       "           Date            AMT\n",
       "0    2016-01-04       0.000000\n",
       "1    2016-01-11       0.000000\n",
       "2    2016-01-18       0.000000\n",
       "3    2016-01-25  392668.929619\n",
       "4    2016-02-01  792668.929619\n",
       "..          ...            ...\n",
       "241  2020-09-28  335142.750000\n",
       "242  2020-10-05  335561.300000\n",
       "243  2020-10-12  157140.600000\n",
       "244  2020-10-19  141917.950000\n",
       "245  2020-10-26    1600.000000\n",
       "\n",
       "[246 rows x 2 columns]"
      ]
     },
     "execution_count": 1474,
     "metadata": {},
     "output_type": "execute_result"
    }
   ],
   "source": [
    "ows"
   ]
  },
  {
   "cell_type": "code",
   "execution_count": 1475,
   "metadata": {
    "scrolled": true
   },
   "outputs": [
    {
     "data": {
      "text/html": [
       "<div>\n",
       "<style scoped>\n",
       "    .dataframe tbody tr th:only-of-type {\n",
       "        vertical-align: middle;\n",
       "    }\n",
       "\n",
       "    .dataframe tbody tr th {\n",
       "        vertical-align: top;\n",
       "    }\n",
       "\n",
       "    .dataframe thead th {\n",
       "        text-align: right;\n",
       "    }\n",
       "</style>\n",
       "<table border=\"1\" class=\"dataframe\">\n",
       "  <thead>\n",
       "    <tr style=\"text-align: right;\">\n",
       "      <th></th>\n",
       "      <th>Product</th>\n",
       "      <th>Week</th>\n",
       "      <th>value</th>\n",
       "    </tr>\n",
       "  </thead>\n",
       "  <tbody>\n",
       "    <tr>\n",
       "      <td>0</td>\n",
       "      <td>04 Total King's Hawaiian</td>\n",
       "      <td>2016-01-03</td>\n",
       "      <td>1.832602e+06</td>\n",
       "    </tr>\n",
       "    <tr>\n",
       "      <td>1</td>\n",
       "      <td>04 Total King's Hawaiian</td>\n",
       "      <td>2016-01-10</td>\n",
       "      <td>1.307039e+06</td>\n",
       "    </tr>\n",
       "    <tr>\n",
       "      <td>2</td>\n",
       "      <td>04 Total King's Hawaiian</td>\n",
       "      <td>2016-01-17</td>\n",
       "      <td>1.253305e+06</td>\n",
       "    </tr>\n",
       "    <tr>\n",
       "      <td>3</td>\n",
       "      <td>04 Total King's Hawaiian</td>\n",
       "      <td>2016-01-24</td>\n",
       "      <td>1.285195e+06</td>\n",
       "    </tr>\n",
       "    <tr>\n",
       "      <td>4</td>\n",
       "      <td>04 Total King's Hawaiian</td>\n",
       "      <td>2016-01-31</td>\n",
       "      <td>1.167300e+06</td>\n",
       "    </tr>\n",
       "    <tr>\n",
       "      <td>...</td>\n",
       "      <td>...</td>\n",
       "      <td>...</td>\n",
       "      <td>...</td>\n",
       "    </tr>\n",
       "    <tr>\n",
       "      <td>241</td>\n",
       "      <td>04 Total King's Hawaiian</td>\n",
       "      <td>2020-08-16</td>\n",
       "      <td>1.817414e+06</td>\n",
       "    </tr>\n",
       "    <tr>\n",
       "      <td>242</td>\n",
       "      <td>04 Total King's Hawaiian</td>\n",
       "      <td>2020-08-23</td>\n",
       "      <td>1.833578e+06</td>\n",
       "    </tr>\n",
       "    <tr>\n",
       "      <td>243</td>\n",
       "      <td>04 Total King's Hawaiian</td>\n",
       "      <td>2020-08-30</td>\n",
       "      <td>1.833123e+06</td>\n",
       "    </tr>\n",
       "    <tr>\n",
       "      <td>244</td>\n",
       "      <td>04 Total King's Hawaiian</td>\n",
       "      <td>2020-09-06</td>\n",
       "      <td>2.249057e+06</td>\n",
       "    </tr>\n",
       "    <tr>\n",
       "      <td>245</td>\n",
       "      <td>04 Total King's Hawaiian</td>\n",
       "      <td>2020-09-13</td>\n",
       "      <td>1.977759e+06</td>\n",
       "    </tr>\n",
       "  </tbody>\n",
       "</table>\n",
       "<p>246 rows × 3 columns</p>\n",
       "</div>"
      ],
      "text/plain": [
       "                      Product        Week         value\n",
       "0    04 Total King's Hawaiian  2016-01-03  1.832602e+06\n",
       "1    04 Total King's Hawaiian  2016-01-10  1.307039e+06\n",
       "2    04 Total King's Hawaiian  2016-01-17  1.253305e+06\n",
       "3    04 Total King's Hawaiian  2016-01-24  1.285195e+06\n",
       "4    04 Total King's Hawaiian  2016-01-31  1.167300e+06\n",
       "..                        ...         ...           ...\n",
       "241  04 Total King's Hawaiian  2020-08-16  1.817414e+06\n",
       "242  04 Total King's Hawaiian  2020-08-23  1.833578e+06\n",
       "243  04 Total King's Hawaiian  2020-08-30  1.833123e+06\n",
       "244  04 Total King's Hawaiian  2020-09-06  2.249057e+06\n",
       "245  04 Total King's Hawaiian  2020-09-13  1.977759e+06\n",
       "\n",
       "[246 rows x 3 columns]"
      ]
     },
     "execution_count": 1475,
     "metadata": {},
     "output_type": "execute_result"
    }
   ],
   "source": [
    "weekly_consumption = tc.reset_index().iloc[:,2:]\n",
    "weekly_consumption"
   ]
  },
  {
   "cell_type": "markdown",
   "metadata": {},
   "source": [
    "### Give each date a number and then match on those numbers"
   ]
  },
  {
   "cell_type": "code",
   "execution_count": 1476,
   "metadata": {
    "scrolled": true
   },
   "outputs": [
    {
     "name": "stderr",
     "output_type": "stream",
     "text": [
      "C:\\Users\\zapcu\\Anaconda3\\lib\\site-packages\\ipykernel_launcher.py:1: SettingWithCopyWarning: \n",
      "A value is trying to be set on a copy of a slice from a DataFrame.\n",
      "Try using .loc[row_indexer,col_indexer] = value instead\n",
      "\n",
      "See the caveats in the documentation: http://pandas.pydata.org/pandas-docs/stable/user_guide/indexing.html#returning-a-view-versus-a-copy\n",
      "  \"\"\"Entry point for launching an IPython kernel.\n"
     ]
    }
   ],
   "source": [
    "ows['Date Rank'] = 0\n",
    "for row in range(1, len(ows)+1): \n",
    "    ows.loc[row-1, 'Date Rank'] = row"
   ]
  },
  {
   "cell_type": "code",
   "execution_count": 1477,
   "metadata": {},
   "outputs": [],
   "source": [
    "weekly_consumption['Date Rank'] = 0\n",
    "for row in range(1, len(weekly_consumption)+1):\n",
    "    weekly_consumption.loc[row-1, 'Date Rank'] = row"
   ]
  },
  {
   "cell_type": "code",
   "execution_count": 1478,
   "metadata": {},
   "outputs": [
    {
     "data": {
      "text/html": [
       "<div>\n",
       "<style scoped>\n",
       "    .dataframe tbody tr th:only-of-type {\n",
       "        vertical-align: middle;\n",
       "    }\n",
       "\n",
       "    .dataframe tbody tr th {\n",
       "        vertical-align: top;\n",
       "    }\n",
       "\n",
       "    .dataframe thead th {\n",
       "        text-align: right;\n",
       "    }\n",
       "</style>\n",
       "<table border=\"1\" class=\"dataframe\">\n",
       "  <thead>\n",
       "    <tr style=\"text-align: right;\">\n",
       "      <th></th>\n",
       "      <th>Product</th>\n",
       "      <th>Week</th>\n",
       "      <th>value</th>\n",
       "      <th>Date Rank</th>\n",
       "    </tr>\n",
       "  </thead>\n",
       "  <tbody>\n",
       "    <tr>\n",
       "      <td>0</td>\n",
       "      <td>04 Total King's Hawaiian</td>\n",
       "      <td>2016-01-03</td>\n",
       "      <td>1.832602e+06</td>\n",
       "      <td>1</td>\n",
       "    </tr>\n",
       "    <tr>\n",
       "      <td>1</td>\n",
       "      <td>04 Total King's Hawaiian</td>\n",
       "      <td>2016-01-10</td>\n",
       "      <td>1.307039e+06</td>\n",
       "      <td>2</td>\n",
       "    </tr>\n",
       "    <tr>\n",
       "      <td>2</td>\n",
       "      <td>04 Total King's Hawaiian</td>\n",
       "      <td>2016-01-17</td>\n",
       "      <td>1.253305e+06</td>\n",
       "      <td>3</td>\n",
       "    </tr>\n",
       "    <tr>\n",
       "      <td>3</td>\n",
       "      <td>04 Total King's Hawaiian</td>\n",
       "      <td>2016-01-24</td>\n",
       "      <td>1.285195e+06</td>\n",
       "      <td>4</td>\n",
       "    </tr>\n",
       "    <tr>\n",
       "      <td>4</td>\n",
       "      <td>04 Total King's Hawaiian</td>\n",
       "      <td>2016-01-31</td>\n",
       "      <td>1.167300e+06</td>\n",
       "      <td>5</td>\n",
       "    </tr>\n",
       "    <tr>\n",
       "      <td>...</td>\n",
       "      <td>...</td>\n",
       "      <td>...</td>\n",
       "      <td>...</td>\n",
       "      <td>...</td>\n",
       "    </tr>\n",
       "    <tr>\n",
       "      <td>241</td>\n",
       "      <td>04 Total King's Hawaiian</td>\n",
       "      <td>2020-08-16</td>\n",
       "      <td>1.817414e+06</td>\n",
       "      <td>242</td>\n",
       "    </tr>\n",
       "    <tr>\n",
       "      <td>242</td>\n",
       "      <td>04 Total King's Hawaiian</td>\n",
       "      <td>2020-08-23</td>\n",
       "      <td>1.833578e+06</td>\n",
       "      <td>243</td>\n",
       "    </tr>\n",
       "    <tr>\n",
       "      <td>243</td>\n",
       "      <td>04 Total King's Hawaiian</td>\n",
       "      <td>2020-08-30</td>\n",
       "      <td>1.833123e+06</td>\n",
       "      <td>244</td>\n",
       "    </tr>\n",
       "    <tr>\n",
       "      <td>244</td>\n",
       "      <td>04 Total King's Hawaiian</td>\n",
       "      <td>2020-09-06</td>\n",
       "      <td>2.249057e+06</td>\n",
       "      <td>245</td>\n",
       "    </tr>\n",
       "    <tr>\n",
       "      <td>245</td>\n",
       "      <td>04 Total King's Hawaiian</td>\n",
       "      <td>2020-09-13</td>\n",
       "      <td>1.977759e+06</td>\n",
       "      <td>246</td>\n",
       "    </tr>\n",
       "  </tbody>\n",
       "</table>\n",
       "<p>246 rows × 4 columns</p>\n",
       "</div>"
      ],
      "text/plain": [
       "                      Product        Week         value  Date Rank\n",
       "0    04 Total King's Hawaiian  2016-01-03  1.832602e+06          1\n",
       "1    04 Total King's Hawaiian  2016-01-10  1.307039e+06          2\n",
       "2    04 Total King's Hawaiian  2016-01-17  1.253305e+06          3\n",
       "3    04 Total King's Hawaiian  2016-01-24  1.285195e+06          4\n",
       "4    04 Total King's Hawaiian  2016-01-31  1.167300e+06          5\n",
       "..                        ...         ...           ...        ...\n",
       "241  04 Total King's Hawaiian  2020-08-16  1.817414e+06        242\n",
       "242  04 Total King's Hawaiian  2020-08-23  1.833578e+06        243\n",
       "243  04 Total King's Hawaiian  2020-08-30  1.833123e+06        244\n",
       "244  04 Total King's Hawaiian  2020-09-06  2.249057e+06        245\n",
       "245  04 Total King's Hawaiian  2020-09-13  1.977759e+06        246\n",
       "\n",
       "[246 rows x 4 columns]"
      ]
     },
     "execution_count": 1478,
     "metadata": {},
     "output_type": "execute_result"
    }
   ],
   "source": [
    "weekly_consumption"
   ]
  },
  {
   "cell_type": "code",
   "execution_count": 1479,
   "metadata": {},
   "outputs": [],
   "source": [
    "merged = pd.merge(weekly_consumption, ows, on = 'Date Rank')"
   ]
  },
  {
   "cell_type": "code",
   "execution_count": 1480,
   "metadata": {},
   "outputs": [],
   "source": [
    "merged = merged.drop('Product', axis = 1)"
   ]
  },
  {
   "cell_type": "code",
   "execution_count": 1481,
   "metadata": {},
   "outputs": [],
   "source": [
    "merged.columns = ['Week', 'Total Consumption', 'Date Rank', 'Drop', 'Total Media Spend']"
   ]
  },
  {
   "cell_type": "code",
   "execution_count": 1482,
   "metadata": {},
   "outputs": [],
   "source": [
    "merged = merged.drop('Drop', axis = 1)"
   ]
  },
  {
   "cell_type": "code",
   "execution_count": 1483,
   "metadata": {},
   "outputs": [],
   "source": [
    "merged = merged.iloc[:243,:]"
   ]
  },
  {
   "cell_type": "code",
   "execution_count": 1484,
   "metadata": {},
   "outputs": [
    {
     "data": {
      "text/html": [
       "<div>\n",
       "<style scoped>\n",
       "    .dataframe tbody tr th:only-of-type {\n",
       "        vertical-align: middle;\n",
       "    }\n",
       "\n",
       "    .dataframe tbody tr th {\n",
       "        vertical-align: top;\n",
       "    }\n",
       "\n",
       "    .dataframe thead th {\n",
       "        text-align: right;\n",
       "    }\n",
       "</style>\n",
       "<table border=\"1\" class=\"dataframe\">\n",
       "  <thead>\n",
       "    <tr style=\"text-align: right;\">\n",
       "      <th></th>\n",
       "      <th>Week</th>\n",
       "      <th>Total Consumption</th>\n",
       "      <th>Date Rank</th>\n",
       "      <th>Total Media Spend</th>\n",
       "    </tr>\n",
       "  </thead>\n",
       "  <tbody>\n",
       "    <tr>\n",
       "      <td>0</td>\n",
       "      <td>2016-01-03</td>\n",
       "      <td>1.832602e+06</td>\n",
       "      <td>1</td>\n",
       "      <td>0.000000e+00</td>\n",
       "    </tr>\n",
       "    <tr>\n",
       "      <td>1</td>\n",
       "      <td>2016-01-10</td>\n",
       "      <td>1.307039e+06</td>\n",
       "      <td>2</td>\n",
       "      <td>0.000000e+00</td>\n",
       "    </tr>\n",
       "    <tr>\n",
       "      <td>2</td>\n",
       "      <td>2016-01-17</td>\n",
       "      <td>1.253305e+06</td>\n",
       "      <td>3</td>\n",
       "      <td>0.000000e+00</td>\n",
       "    </tr>\n",
       "    <tr>\n",
       "      <td>3</td>\n",
       "      <td>2016-01-24</td>\n",
       "      <td>1.285195e+06</td>\n",
       "      <td>4</td>\n",
       "      <td>3.926689e+05</td>\n",
       "    </tr>\n",
       "    <tr>\n",
       "      <td>4</td>\n",
       "      <td>2016-01-31</td>\n",
       "      <td>1.167300e+06</td>\n",
       "      <td>5</td>\n",
       "      <td>7.926689e+05</td>\n",
       "    </tr>\n",
       "    <tr>\n",
       "      <td>...</td>\n",
       "      <td>...</td>\n",
       "      <td>...</td>\n",
       "      <td>...</td>\n",
       "      <td>...</td>\n",
       "    </tr>\n",
       "    <tr>\n",
       "      <td>238</td>\n",
       "      <td>2020-07-26</td>\n",
       "      <td>1.772376e+06</td>\n",
       "      <td>239</td>\n",
       "      <td>1.028144e+06</td>\n",
       "    </tr>\n",
       "    <tr>\n",
       "      <td>239</td>\n",
       "      <td>2020-08-02</td>\n",
       "      <td>1.760003e+06</td>\n",
       "      <td>240</td>\n",
       "      <td>6.928861e+05</td>\n",
       "    </tr>\n",
       "    <tr>\n",
       "      <td>240</td>\n",
       "      <td>2020-08-09</td>\n",
       "      <td>1.846151e+06</td>\n",
       "      <td>241</td>\n",
       "      <td>5.040058e+05</td>\n",
       "    </tr>\n",
       "    <tr>\n",
       "      <td>241</td>\n",
       "      <td>2020-08-16</td>\n",
       "      <td>1.817414e+06</td>\n",
       "      <td>242</td>\n",
       "      <td>3.351428e+05</td>\n",
       "    </tr>\n",
       "    <tr>\n",
       "      <td>242</td>\n",
       "      <td>2020-08-23</td>\n",
       "      <td>1.833578e+06</td>\n",
       "      <td>243</td>\n",
       "      <td>3.355613e+05</td>\n",
       "    </tr>\n",
       "  </tbody>\n",
       "</table>\n",
       "<p>243 rows × 4 columns</p>\n",
       "</div>"
      ],
      "text/plain": [
       "           Week  Total Consumption  Date Rank  Total Media Spend\n",
       "0    2016-01-03       1.832602e+06          1       0.000000e+00\n",
       "1    2016-01-10       1.307039e+06          2       0.000000e+00\n",
       "2    2016-01-17       1.253305e+06          3       0.000000e+00\n",
       "3    2016-01-24       1.285195e+06          4       3.926689e+05\n",
       "4    2016-01-31       1.167300e+06          5       7.926689e+05\n",
       "..          ...                ...        ...                ...\n",
       "238  2020-07-26       1.772376e+06        239       1.028144e+06\n",
       "239  2020-08-02       1.760003e+06        240       6.928861e+05\n",
       "240  2020-08-09       1.846151e+06        241       5.040058e+05\n",
       "241  2020-08-16       1.817414e+06        242       3.351428e+05\n",
       "242  2020-08-23       1.833578e+06        243       3.355613e+05\n",
       "\n",
       "[243 rows x 4 columns]"
      ]
     },
     "execution_count": 1484,
     "metadata": {},
     "output_type": "execute_result"
    }
   ],
   "source": [
    "merged"
   ]
  },
  {
   "cell_type": "code",
   "execution_count": 1485,
   "metadata": {},
   "outputs": [
    {
     "data": {
      "text/html": [
       "<div>\n",
       "<style scoped>\n",
       "    .dataframe tbody tr th:only-of-type {\n",
       "        vertical-align: middle;\n",
       "    }\n",
       "\n",
       "    .dataframe tbody tr th {\n",
       "        vertical-align: top;\n",
       "    }\n",
       "\n",
       "    .dataframe thead th {\n",
       "        text-align: right;\n",
       "    }\n",
       "</style>\n",
       "<table border=\"1\" class=\"dataframe\">\n",
       "  <thead>\n",
       "    <tr style=\"text-align: right;\">\n",
       "      <th></th>\n",
       "      <th>Total Consumption</th>\n",
       "      <th>Date Rank</th>\n",
       "      <th>Total Media Spend</th>\n",
       "    </tr>\n",
       "  </thead>\n",
       "  <tbody>\n",
       "    <tr>\n",
       "      <td>Total Consumption</td>\n",
       "      <td>1.000000</td>\n",
       "      <td>0.190252</td>\n",
       "      <td>-0.100069</td>\n",
       "    </tr>\n",
       "    <tr>\n",
       "      <td>Date Rank</td>\n",
       "      <td>0.190252</td>\n",
       "      <td>1.000000</td>\n",
       "      <td>0.053880</td>\n",
       "    </tr>\n",
       "    <tr>\n",
       "      <td>Total Media Spend</td>\n",
       "      <td>-0.100069</td>\n",
       "      <td>0.053880</td>\n",
       "      <td>1.000000</td>\n",
       "    </tr>\n",
       "  </tbody>\n",
       "</table>\n",
       "</div>"
      ],
      "text/plain": [
       "                   Total Consumption  Date Rank  Total Media Spend\n",
       "Total Consumption           1.000000   0.190252          -0.100069\n",
       "Date Rank                   0.190252   1.000000           0.053880\n",
       "Total Media Spend          -0.100069   0.053880           1.000000"
      ]
     },
     "execution_count": 1485,
     "metadata": {},
     "output_type": "execute_result"
    }
   ],
   "source": [
    "merged.corr()"
   ]
  },
  {
   "cell_type": "markdown",
   "metadata": {},
   "source": [
    "### Calculate the 13 wk avg of consumption for each week of media spend and test correlation"
   ]
  },
  {
   "cell_type": "code",
   "execution_count": 1486,
   "metadata": {},
   "outputs": [],
   "source": [
    "merged['13_wk_avg'] = 0\n",
    "for week in range(0, len(merged)-13):\n",
    "    merged.loc[week, '13_wk_avg'] = merged.loc[week+1:week+14, 'Total Consumption'].mean()"
   ]
  },
  {
   "cell_type": "code",
   "execution_count": 1487,
   "metadata": {},
   "outputs": [],
   "source": [
    "wk13 = merged.iloc[:len(merged)-13, :]"
   ]
  },
  {
   "cell_type": "code",
   "execution_count": 1488,
   "metadata": {},
   "outputs": [
    {
     "data": {
      "text/html": [
       "<div>\n",
       "<style scoped>\n",
       "    .dataframe tbody tr th:only-of-type {\n",
       "        vertical-align: middle;\n",
       "    }\n",
       "\n",
       "    .dataframe tbody tr th {\n",
       "        vertical-align: top;\n",
       "    }\n",
       "\n",
       "    .dataframe thead th {\n",
       "        text-align: right;\n",
       "    }\n",
       "</style>\n",
       "<table border=\"1\" class=\"dataframe\">\n",
       "  <thead>\n",
       "    <tr style=\"text-align: right;\">\n",
       "      <th></th>\n",
       "      <th>Week</th>\n",
       "      <th>Total Consumption</th>\n",
       "      <th>Date Rank</th>\n",
       "      <th>Total Media Spend</th>\n",
       "      <th>13_wk_avg</th>\n",
       "    </tr>\n",
       "  </thead>\n",
       "  <tbody>\n",
       "    <tr>\n",
       "      <td>0</td>\n",
       "      <td>2016-01-03</td>\n",
       "      <td>1.832602e+06</td>\n",
       "      <td>1</td>\n",
       "      <td>0.000000</td>\n",
       "      <td>1.472657e+06</td>\n",
       "    </tr>\n",
       "    <tr>\n",
       "      <td>1</td>\n",
       "      <td>2016-01-10</td>\n",
       "      <td>1.307039e+06</td>\n",
       "      <td>2</td>\n",
       "      <td>0.000000</td>\n",
       "      <td>1.476223e+06</td>\n",
       "    </tr>\n",
       "    <tr>\n",
       "      <td>2</td>\n",
       "      <td>2016-01-17</td>\n",
       "      <td>1.253305e+06</td>\n",
       "      <td>3</td>\n",
       "      <td>0.000000</td>\n",
       "      <td>1.481213e+06</td>\n",
       "    </tr>\n",
       "    <tr>\n",
       "      <td>3</td>\n",
       "      <td>2016-01-24</td>\n",
       "      <td>1.285195e+06</td>\n",
       "      <td>4</td>\n",
       "      <td>392668.929619</td>\n",
       "      <td>1.485759e+06</td>\n",
       "    </tr>\n",
       "    <tr>\n",
       "      <td>4</td>\n",
       "      <td>2016-01-31</td>\n",
       "      <td>1.167300e+06</td>\n",
       "      <td>5</td>\n",
       "      <td>792668.929619</td>\n",
       "      <td>1.509340e+06</td>\n",
       "    </tr>\n",
       "    <tr>\n",
       "      <td>...</td>\n",
       "      <td>...</td>\n",
       "      <td>...</td>\n",
       "      <td>...</td>\n",
       "      <td>...</td>\n",
       "      <td>...</td>\n",
       "    </tr>\n",
       "    <tr>\n",
       "      <td>225</td>\n",
       "      <td>2020-04-26</td>\n",
       "      <td>1.893788e+06</td>\n",
       "      <td>226</td>\n",
       "      <td>22081.250000</td>\n",
       "      <td>1.890227e+06</td>\n",
       "    </tr>\n",
       "    <tr>\n",
       "      <td>226</td>\n",
       "      <td>2020-05-03</td>\n",
       "      <td>1.873758e+06</td>\n",
       "      <td>227</td>\n",
       "      <td>34443.250000</td>\n",
       "      <td>1.888255e+06</td>\n",
       "    </tr>\n",
       "    <tr>\n",
       "      <td>227</td>\n",
       "      <td>2020-05-10</td>\n",
       "      <td>1.933135e+06</td>\n",
       "      <td>228</td>\n",
       "      <td>683934.140000</td>\n",
       "      <td>1.879989e+06</td>\n",
       "    </tr>\n",
       "    <tr>\n",
       "      <td>228</td>\n",
       "      <td>2020-05-17</td>\n",
       "      <td>1.759824e+06</td>\n",
       "      <td>229</td>\n",
       "      <td>931356.056454</td>\n",
       "      <td>1.885258e+06</td>\n",
       "    </tr>\n",
       "    <tr>\n",
       "      <td>229</td>\n",
       "      <td>2020-05-24</td>\n",
       "      <td>2.036224e+06</td>\n",
       "      <td>230</td>\n",
       "      <td>848965.804454</td>\n",
       "      <td>1.873645e+06</td>\n",
       "    </tr>\n",
       "  </tbody>\n",
       "</table>\n",
       "<p>230 rows × 5 columns</p>\n",
       "</div>"
      ],
      "text/plain": [
       "           Week  Total Consumption  Date Rank  Total Media Spend     13_wk_avg\n",
       "0    2016-01-03       1.832602e+06          1           0.000000  1.472657e+06\n",
       "1    2016-01-10       1.307039e+06          2           0.000000  1.476223e+06\n",
       "2    2016-01-17       1.253305e+06          3           0.000000  1.481213e+06\n",
       "3    2016-01-24       1.285195e+06          4      392668.929619  1.485759e+06\n",
       "4    2016-01-31       1.167300e+06          5      792668.929619  1.509340e+06\n",
       "..          ...                ...        ...                ...           ...\n",
       "225  2020-04-26       1.893788e+06        226       22081.250000  1.890227e+06\n",
       "226  2020-05-03       1.873758e+06        227       34443.250000  1.888255e+06\n",
       "227  2020-05-10       1.933135e+06        228      683934.140000  1.879989e+06\n",
       "228  2020-05-17       1.759824e+06        229      931356.056454  1.885258e+06\n",
       "229  2020-05-24       2.036224e+06        230      848965.804454  1.873645e+06\n",
       "\n",
       "[230 rows x 5 columns]"
      ]
     },
     "execution_count": 1488,
     "metadata": {},
     "output_type": "execute_result"
    }
   ],
   "source": [
    "wk13"
   ]
  },
  {
   "cell_type": "code",
   "execution_count": 1489,
   "metadata": {
    "scrolled": true
   },
   "outputs": [
    {
     "data": {
      "text/html": [
       "<div>\n",
       "<style scoped>\n",
       "    .dataframe tbody tr th:only-of-type {\n",
       "        vertical-align: middle;\n",
       "    }\n",
       "\n",
       "    .dataframe tbody tr th {\n",
       "        vertical-align: top;\n",
       "    }\n",
       "\n",
       "    .dataframe thead th {\n",
       "        text-align: right;\n",
       "    }\n",
       "</style>\n",
       "<table border=\"1\" class=\"dataframe\">\n",
       "  <thead>\n",
       "    <tr style=\"text-align: right;\">\n",
       "      <th></th>\n",
       "      <th>Total Consumption</th>\n",
       "      <th>Date Rank</th>\n",
       "      <th>Total Media Spend</th>\n",
       "      <th>13_wk_avg</th>\n",
       "    </tr>\n",
       "  </thead>\n",
       "  <tbody>\n",
       "    <tr>\n",
       "      <td>Total Consumption</td>\n",
       "      <td>1.000000</td>\n",
       "      <td>0.204331</td>\n",
       "      <td>-0.106209</td>\n",
       "      <td>0.107040</td>\n",
       "    </tr>\n",
       "    <tr>\n",
       "      <td>Date Rank</td>\n",
       "      <td>0.204331</td>\n",
       "      <td>1.000000</td>\n",
       "      <td>0.013219</td>\n",
       "      <td>0.423105</td>\n",
       "    </tr>\n",
       "    <tr>\n",
       "      <td>Total Media Spend</td>\n",
       "      <td>-0.106209</td>\n",
       "      <td>0.013219</td>\n",
       "      <td>1.000000</td>\n",
       "      <td>-0.004717</td>\n",
       "    </tr>\n",
       "    <tr>\n",
       "      <td>13_wk_avg</td>\n",
       "      <td>0.107040</td>\n",
       "      <td>0.423105</td>\n",
       "      <td>-0.004717</td>\n",
       "      <td>1.000000</td>\n",
       "    </tr>\n",
       "  </tbody>\n",
       "</table>\n",
       "</div>"
      ],
      "text/plain": [
       "                   Total Consumption  Date Rank  Total Media Spend  13_wk_avg\n",
       "Total Consumption           1.000000   0.204331          -0.106209   0.107040\n",
       "Date Rank                   0.204331   1.000000           0.013219   0.423105\n",
       "Total Media Spend          -0.106209   0.013219           1.000000  -0.004717\n",
       "13_wk_avg                   0.107040   0.423105          -0.004717   1.000000"
      ]
     },
     "execution_count": 1489,
     "metadata": {},
     "output_type": "execute_result"
    }
   ],
   "source": [
    "wk13.corr()"
   ]
  },
  {
   "cell_type": "markdown",
   "metadata": {},
   "source": [
    "### Now do this for all the different media types"
   ]
  },
  {
   "cell_type": "code",
   "execution_count": 1490,
   "metadata": {
    "scrolled": true
   },
   "outputs": [
    {
     "data": {
      "text/plain": [
       "['TV',\n",
       " 'DIGITAL',\n",
       " 'PRINT',\n",
       " 'VOD',\n",
       " 'RADIO',\n",
       " 'SPONSORSHIP',\n",
       " 'BASEBALL',\n",
       " 'BILLBOARD',\n",
       " 'INFLUENCERS/DIGITAL',\n",
       " 'INFLUENCER']"
      ]
     },
     "execution_count": 1490,
     "metadata": {},
     "output_type": "execute_result"
    }
   ],
   "source": [
    "media_types = list(media_spend['Media Type'].unique())\n",
    "media_types"
   ]
  },
  {
   "cell_type": "code",
   "execution_count": 1491,
   "metadata": {},
   "outputs": [],
   "source": [
    "monthly_consumption = weekly_consumption.drop('Product', axis = 1)\n",
    "monthly_consumption['Month'] = pd.DatetimeIndex(monthly_consumption['Week']).month\n",
    "monthly_consumption['Year'] = pd.DatetimeIndex(monthly_consumption['Week']).year"
   ]
  },
  {
   "cell_type": "code",
   "execution_count": 1492,
   "metadata": {},
   "outputs": [],
   "source": [
    "monthly_consumption = monthly_consumption.drop('Date Rank', axis = 1)"
   ]
  },
  {
   "cell_type": "code",
   "execution_count": 1493,
   "metadata": {},
   "outputs": [
    {
     "data": {
      "text/html": [
       "<div>\n",
       "<style scoped>\n",
       "    .dataframe tbody tr th:only-of-type {\n",
       "        vertical-align: middle;\n",
       "    }\n",
       "\n",
       "    .dataframe tbody tr th {\n",
       "        vertical-align: top;\n",
       "    }\n",
       "\n",
       "    .dataframe thead th {\n",
       "        text-align: right;\n",
       "    }\n",
       "</style>\n",
       "<table border=\"1\" class=\"dataframe\">\n",
       "  <thead>\n",
       "    <tr style=\"text-align: right;\">\n",
       "      <th></th>\n",
       "      <th>Year</th>\n",
       "      <th>Month</th>\n",
       "      <th>Monthly Consumption</th>\n",
       "    </tr>\n",
       "  </thead>\n",
       "  <tbody>\n",
       "    <tr>\n",
       "      <td>0</td>\n",
       "      <td>2016</td>\n",
       "      <td>1</td>\n",
       "      <td>6.845440e+06</td>\n",
       "    </tr>\n",
       "    <tr>\n",
       "      <td>1</td>\n",
       "      <td>2016</td>\n",
       "      <td>2</td>\n",
       "      <td>5.582913e+06</td>\n",
       "    </tr>\n",
       "    <tr>\n",
       "      <td>2</td>\n",
       "      <td>2016</td>\n",
       "      <td>3</td>\n",
       "      <td>6.963284e+06</td>\n",
       "    </tr>\n",
       "    <tr>\n",
       "      <td>3</td>\n",
       "      <td>2016</td>\n",
       "      <td>4</td>\n",
       "      <td>5.738292e+06</td>\n",
       "    </tr>\n",
       "    <tr>\n",
       "      <td>4</td>\n",
       "      <td>2016</td>\n",
       "      <td>5</td>\n",
       "      <td>7.252815e+06</td>\n",
       "    </tr>\n",
       "    <tr>\n",
       "      <td>5</td>\n",
       "      <td>2016</td>\n",
       "      <td>6</td>\n",
       "      <td>5.752177e+06</td>\n",
       "    </tr>\n",
       "    <tr>\n",
       "      <td>6</td>\n",
       "      <td>2016</td>\n",
       "      <td>7</td>\n",
       "      <td>7.299034e+06</td>\n",
       "    </tr>\n",
       "    <tr>\n",
       "      <td>7</td>\n",
       "      <td>2016</td>\n",
       "      <td>8</td>\n",
       "      <td>5.615529e+06</td>\n",
       "    </tr>\n",
       "    <tr>\n",
       "      <td>8</td>\n",
       "      <td>2016</td>\n",
       "      <td>9</td>\n",
       "      <td>5.828230e+06</td>\n",
       "    </tr>\n",
       "    <tr>\n",
       "      <td>9</td>\n",
       "      <td>2016</td>\n",
       "      <td>10</td>\n",
       "      <td>7.105767e+06</td>\n",
       "    </tr>\n",
       "    <tr>\n",
       "      <td>10</td>\n",
       "      <td>2016</td>\n",
       "      <td>11</td>\n",
       "      <td>1.273420e+07</td>\n",
       "    </tr>\n",
       "    <tr>\n",
       "      <td>11</td>\n",
       "      <td>2016</td>\n",
       "      <td>12</td>\n",
       "      <td>1.120894e+07</td>\n",
       "    </tr>\n",
       "    <tr>\n",
       "      <td>12</td>\n",
       "      <td>2017</td>\n",
       "      <td>1</td>\n",
       "      <td>8.020081e+06</td>\n",
       "    </tr>\n",
       "    <tr>\n",
       "      <td>13</td>\n",
       "      <td>2017</td>\n",
       "      <td>2</td>\n",
       "      <td>6.191383e+06</td>\n",
       "    </tr>\n",
       "    <tr>\n",
       "      <td>14</td>\n",
       "      <td>2017</td>\n",
       "      <td>3</td>\n",
       "      <td>5.726407e+06</td>\n",
       "    </tr>\n",
       "    <tr>\n",
       "      <td>15</td>\n",
       "      <td>2017</td>\n",
       "      <td>4</td>\n",
       "      <td>9.217823e+06</td>\n",
       "    </tr>\n",
       "    <tr>\n",
       "      <td>16</td>\n",
       "      <td>2017</td>\n",
       "      <td>5</td>\n",
       "      <td>5.937119e+06</td>\n",
       "    </tr>\n",
       "    <tr>\n",
       "      <td>17</td>\n",
       "      <td>2017</td>\n",
       "      <td>6</td>\n",
       "      <td>5.874390e+06</td>\n",
       "    </tr>\n",
       "    <tr>\n",
       "      <td>18</td>\n",
       "      <td>2017</td>\n",
       "      <td>7</td>\n",
       "      <td>7.506389e+06</td>\n",
       "    </tr>\n",
       "    <tr>\n",
       "      <td>19</td>\n",
       "      <td>2017</td>\n",
       "      <td>8</td>\n",
       "      <td>5.811155e+06</td>\n",
       "    </tr>\n",
       "    <tr>\n",
       "      <td>20</td>\n",
       "      <td>2017</td>\n",
       "      <td>9</td>\n",
       "      <td>6.263823e+06</td>\n",
       "    </tr>\n",
       "    <tr>\n",
       "      <td>21</td>\n",
       "      <td>2017</td>\n",
       "      <td>10</td>\n",
       "      <td>7.380857e+06</td>\n",
       "    </tr>\n",
       "    <tr>\n",
       "      <td>22</td>\n",
       "      <td>2017</td>\n",
       "      <td>11</td>\n",
       "      <td>1.338877e+07</td>\n",
       "    </tr>\n",
       "    <tr>\n",
       "      <td>23</td>\n",
       "      <td>2017</td>\n",
       "      <td>12</td>\n",
       "      <td>1.400362e+07</td>\n",
       "    </tr>\n",
       "    <tr>\n",
       "      <td>24</td>\n",
       "      <td>2018</td>\n",
       "      <td>1</td>\n",
       "      <td>5.918093e+06</td>\n",
       "    </tr>\n",
       "    <tr>\n",
       "      <td>25</td>\n",
       "      <td>2018</td>\n",
       "      <td>2</td>\n",
       "      <td>6.273803e+06</td>\n",
       "    </tr>\n",
       "    <tr>\n",
       "      <td>26</td>\n",
       "      <td>2018</td>\n",
       "      <td>3</td>\n",
       "      <td>6.102814e+06</td>\n",
       "    </tr>\n",
       "    <tr>\n",
       "      <td>27</td>\n",
       "      <td>2018</td>\n",
       "      <td>4</td>\n",
       "      <td>9.534237e+06</td>\n",
       "    </tr>\n",
       "    <tr>\n",
       "      <td>28</td>\n",
       "      <td>2018</td>\n",
       "      <td>5</td>\n",
       "      <td>6.307460e+06</td>\n",
       "    </tr>\n",
       "    <tr>\n",
       "      <td>29</td>\n",
       "      <td>2018</td>\n",
       "      <td>6</td>\n",
       "      <td>6.287638e+06</td>\n",
       "    </tr>\n",
       "    <tr>\n",
       "      <td>30</td>\n",
       "      <td>2018</td>\n",
       "      <td>7</td>\n",
       "      <td>8.213433e+06</td>\n",
       "    </tr>\n",
       "    <tr>\n",
       "      <td>31</td>\n",
       "      <td>2018</td>\n",
       "      <td>8</td>\n",
       "      <td>6.034962e+06</td>\n",
       "    </tr>\n",
       "    <tr>\n",
       "      <td>32</td>\n",
       "      <td>2018</td>\n",
       "      <td>9</td>\n",
       "      <td>8.024399e+06</td>\n",
       "    </tr>\n",
       "    <tr>\n",
       "      <td>33</td>\n",
       "      <td>2018</td>\n",
       "      <td>10</td>\n",
       "      <td>6.253694e+06</td>\n",
       "    </tr>\n",
       "    <tr>\n",
       "      <td>34</td>\n",
       "      <td>2018</td>\n",
       "      <td>11</td>\n",
       "      <td>1.396118e+07</td>\n",
       "    </tr>\n",
       "    <tr>\n",
       "      <td>35</td>\n",
       "      <td>2018</td>\n",
       "      <td>12</td>\n",
       "      <td>1.446445e+07</td>\n",
       "    </tr>\n",
       "    <tr>\n",
       "      <td>36</td>\n",
       "      <td>2019</td>\n",
       "      <td>1</td>\n",
       "      <td>6.583778e+06</td>\n",
       "    </tr>\n",
       "    <tr>\n",
       "      <td>37</td>\n",
       "      <td>2019</td>\n",
       "      <td>2</td>\n",
       "      <td>6.441107e+06</td>\n",
       "    </tr>\n",
       "    <tr>\n",
       "      <td>38</td>\n",
       "      <td>2019</td>\n",
       "      <td>3</td>\n",
       "      <td>7.552271e+06</td>\n",
       "    </tr>\n",
       "    <tr>\n",
       "      <td>39</td>\n",
       "      <td>2019</td>\n",
       "      <td>4</td>\n",
       "      <td>8.723088e+06</td>\n",
       "    </tr>\n",
       "    <tr>\n",
       "      <td>40</td>\n",
       "      <td>2019</td>\n",
       "      <td>5</td>\n",
       "      <td>6.964340e+06</td>\n",
       "    </tr>\n",
       "    <tr>\n",
       "      <td>41</td>\n",
       "      <td>2019</td>\n",
       "      <td>6</td>\n",
       "      <td>8.193127e+06</td>\n",
       "    </tr>\n",
       "    <tr>\n",
       "      <td>42</td>\n",
       "      <td>2019</td>\n",
       "      <td>7</td>\n",
       "      <td>6.725434e+06</td>\n",
       "    </tr>\n",
       "    <tr>\n",
       "      <td>43</td>\n",
       "      <td>2019</td>\n",
       "      <td>8</td>\n",
       "      <td>6.484241e+06</td>\n",
       "    </tr>\n",
       "    <tr>\n",
       "      <td>44</td>\n",
       "      <td>2019</td>\n",
       "      <td>9</td>\n",
       "      <td>8.582184e+06</td>\n",
       "    </tr>\n",
       "    <tr>\n",
       "      <td>45</td>\n",
       "      <td>2019</td>\n",
       "      <td>10</td>\n",
       "      <td>6.446926e+06</td>\n",
       "    </tr>\n",
       "    <tr>\n",
       "      <td>46</td>\n",
       "      <td>2019</td>\n",
       "      <td>11</td>\n",
       "      <td>9.769092e+06</td>\n",
       "    </tr>\n",
       "    <tr>\n",
       "      <td>47</td>\n",
       "      <td>2019</td>\n",
       "      <td>12</td>\n",
       "      <td>2.032256e+07</td>\n",
       "    </tr>\n",
       "    <tr>\n",
       "      <td>48</td>\n",
       "      <td>2020</td>\n",
       "      <td>1</td>\n",
       "      <td>6.736174e+06</td>\n",
       "    </tr>\n",
       "    <tr>\n",
       "      <td>49</td>\n",
       "      <td>2020</td>\n",
       "      <td>2</td>\n",
       "      <td>7.013208e+06</td>\n",
       "    </tr>\n",
       "    <tr>\n",
       "      <td>50</td>\n",
       "      <td>2020</td>\n",
       "      <td>3</td>\n",
       "      <td>1.115652e+07</td>\n",
       "    </tr>\n",
       "    <tr>\n",
       "      <td>51</td>\n",
       "      <td>2020</td>\n",
       "      <td>4</td>\n",
       "      <td>9.369658e+06</td>\n",
       "    </tr>\n",
       "    <tr>\n",
       "      <td>52</td>\n",
       "      <td>2020</td>\n",
       "      <td>5</td>\n",
       "      <td>9.367418e+06</td>\n",
       "    </tr>\n",
       "    <tr>\n",
       "      <td>53</td>\n",
       "      <td>2020</td>\n",
       "      <td>6</td>\n",
       "      <td>7.302470e+06</td>\n",
       "    </tr>\n",
       "    <tr>\n",
       "      <td>54</td>\n",
       "      <td>2020</td>\n",
       "      <td>7</td>\n",
       "      <td>8.033289e+06</td>\n",
       "    </tr>\n",
       "    <tr>\n",
       "      <td>55</td>\n",
       "      <td>2020</td>\n",
       "      <td>8</td>\n",
       "      <td>9.090270e+06</td>\n",
       "    </tr>\n",
       "    <tr>\n",
       "      <td>56</td>\n",
       "      <td>2020</td>\n",
       "      <td>9</td>\n",
       "      <td>4.226816e+06</td>\n",
       "    </tr>\n",
       "  </tbody>\n",
       "</table>\n",
       "</div>"
      ],
      "text/plain": [
       "    Year  Month  Monthly Consumption\n",
       "0   2016      1         6.845440e+06\n",
       "1   2016      2         5.582913e+06\n",
       "2   2016      3         6.963284e+06\n",
       "3   2016      4         5.738292e+06\n",
       "4   2016      5         7.252815e+06\n",
       "5   2016      6         5.752177e+06\n",
       "6   2016      7         7.299034e+06\n",
       "7   2016      8         5.615529e+06\n",
       "8   2016      9         5.828230e+06\n",
       "9   2016     10         7.105767e+06\n",
       "10  2016     11         1.273420e+07\n",
       "11  2016     12         1.120894e+07\n",
       "12  2017      1         8.020081e+06\n",
       "13  2017      2         6.191383e+06\n",
       "14  2017      3         5.726407e+06\n",
       "15  2017      4         9.217823e+06\n",
       "16  2017      5         5.937119e+06\n",
       "17  2017      6         5.874390e+06\n",
       "18  2017      7         7.506389e+06\n",
       "19  2017      8         5.811155e+06\n",
       "20  2017      9         6.263823e+06\n",
       "21  2017     10         7.380857e+06\n",
       "22  2017     11         1.338877e+07\n",
       "23  2017     12         1.400362e+07\n",
       "24  2018      1         5.918093e+06\n",
       "25  2018      2         6.273803e+06\n",
       "26  2018      3         6.102814e+06\n",
       "27  2018      4         9.534237e+06\n",
       "28  2018      5         6.307460e+06\n",
       "29  2018      6         6.287638e+06\n",
       "30  2018      7         8.213433e+06\n",
       "31  2018      8         6.034962e+06\n",
       "32  2018      9         8.024399e+06\n",
       "33  2018     10         6.253694e+06\n",
       "34  2018     11         1.396118e+07\n",
       "35  2018     12         1.446445e+07\n",
       "36  2019      1         6.583778e+06\n",
       "37  2019      2         6.441107e+06\n",
       "38  2019      3         7.552271e+06\n",
       "39  2019      4         8.723088e+06\n",
       "40  2019      5         6.964340e+06\n",
       "41  2019      6         8.193127e+06\n",
       "42  2019      7         6.725434e+06\n",
       "43  2019      8         6.484241e+06\n",
       "44  2019      9         8.582184e+06\n",
       "45  2019     10         6.446926e+06\n",
       "46  2019     11         9.769092e+06\n",
       "47  2019     12         2.032256e+07\n",
       "48  2020      1         6.736174e+06\n",
       "49  2020      2         7.013208e+06\n",
       "50  2020      3         1.115652e+07\n",
       "51  2020      4         9.369658e+06\n",
       "52  2020      5         9.367418e+06\n",
       "53  2020      6         7.302470e+06\n",
       "54  2020      7         8.033289e+06\n",
       "55  2020      8         9.090270e+06\n",
       "56  2020      9         4.226816e+06"
      ]
     },
     "execution_count": 1493,
     "metadata": {},
     "output_type": "execute_result"
    }
   ],
   "source": [
    "monthly_consumption = monthly_consumption.groupby(['Year', 'Month']).agg({'value':'sum'}).reset_index().rename(columns = {'value':'Monthly Consumption'})\n",
    "monthly_consumption"
   ]
  },
  {
   "cell_type": "code",
   "execution_count": 1494,
   "metadata": {},
   "outputs": [
    {
     "data": {
      "text/html": [
       "<div>\n",
       "<style scoped>\n",
       "    .dataframe tbody tr th:only-of-type {\n",
       "        vertical-align: middle;\n",
       "    }\n",
       "\n",
       "    .dataframe tbody tr th {\n",
       "        vertical-align: top;\n",
       "    }\n",
       "\n",
       "    .dataframe thead th {\n",
       "        text-align: right;\n",
       "    }\n",
       "</style>\n",
       "<table border=\"1\" class=\"dataframe\">\n",
       "  <thead>\n",
       "    <tr style=\"text-align: right;\">\n",
       "      <th></th>\n",
       "      <th>Date</th>\n",
       "      <th>AMT</th>\n",
       "      <th>Media Type</th>\n",
       "      <th>Month</th>\n",
       "      <th>Year</th>\n",
       "    </tr>\n",
       "  </thead>\n",
       "  <tbody>\n",
       "    <tr>\n",
       "      <td>12</td>\n",
       "      <td>2016-01-04</td>\n",
       "      <td>0.0</td>\n",
       "      <td>TV</td>\n",
       "      <td>1</td>\n",
       "      <td>2016</td>\n",
       "    </tr>\n",
       "    <tr>\n",
       "      <td>15</td>\n",
       "      <td>2016-01-04</td>\n",
       "      <td>0.0</td>\n",
       "      <td>DIGITAL</td>\n",
       "      <td>1</td>\n",
       "      <td>2016</td>\n",
       "    </tr>\n",
       "    <tr>\n",
       "      <td>18</td>\n",
       "      <td>2016-01-04</td>\n",
       "      <td>0.0</td>\n",
       "      <td>PRINT</td>\n",
       "      <td>1</td>\n",
       "      <td>2016</td>\n",
       "    </tr>\n",
       "    <tr>\n",
       "      <td>21</td>\n",
       "      <td>2016-01-04</td>\n",
       "      <td>0.0</td>\n",
       "      <td>VOD</td>\n",
       "      <td>1</td>\n",
       "      <td>2016</td>\n",
       "    </tr>\n",
       "    <tr>\n",
       "      <td>22</td>\n",
       "      <td>2016-01-04</td>\n",
       "      <td>0.0</td>\n",
       "      <td>RADIO</td>\n",
       "      <td>1</td>\n",
       "      <td>2016</td>\n",
       "    </tr>\n",
       "    <tr>\n",
       "      <td>...</td>\n",
       "      <td>...</td>\n",
       "      <td>...</td>\n",
       "      <td>...</td>\n",
       "      <td>...</td>\n",
       "      <td>...</td>\n",
       "    </tr>\n",
       "    <tr>\n",
       "      <td>7457</td>\n",
       "      <td>2020-12-14</td>\n",
       "      <td>0.0</td>\n",
       "      <td>PRINT</td>\n",
       "      <td>12</td>\n",
       "      <td>2020</td>\n",
       "    </tr>\n",
       "    <tr>\n",
       "      <td>7458</td>\n",
       "      <td>2020-12-14</td>\n",
       "      <td>0.0</td>\n",
       "      <td>BILLBOARD</td>\n",
       "      <td>12</td>\n",
       "      <td>2020</td>\n",
       "    </tr>\n",
       "    <tr>\n",
       "      <td>7459</td>\n",
       "      <td>2020-12-14</td>\n",
       "      <td>0.0</td>\n",
       "      <td>INFLUENCER</td>\n",
       "      <td>12</td>\n",
       "      <td>2020</td>\n",
       "    </tr>\n",
       "    <tr>\n",
       "      <td>7460</td>\n",
       "      <td>2020-12-14</td>\n",
       "      <td>0.0</td>\n",
       "      <td>DIGITAL</td>\n",
       "      <td>12</td>\n",
       "      <td>2020</td>\n",
       "    </tr>\n",
       "    <tr>\n",
       "      <td>7482</td>\n",
       "      <td>2020-12-14</td>\n",
       "      <td>14519.0</td>\n",
       "      <td>DIGITAL</td>\n",
       "      <td>12</td>\n",
       "      <td>2020</td>\n",
       "    </tr>\n",
       "  </tbody>\n",
       "</table>\n",
       "<p>3377 rows × 5 columns</p>\n",
       "</div>"
      ],
      "text/plain": [
       "            Date      AMT  Media Type  Month  Year\n",
       "12    2016-01-04      0.0          TV      1  2016\n",
       "15    2016-01-04      0.0     DIGITAL      1  2016\n",
       "18    2016-01-04      0.0       PRINT      1  2016\n",
       "21    2016-01-04      0.0         VOD      1  2016\n",
       "22    2016-01-04      0.0       RADIO      1  2016\n",
       "...          ...      ...         ...    ...   ...\n",
       "7457  2020-12-14      0.0       PRINT     12  2020\n",
       "7458  2020-12-14      0.0   BILLBOARD     12  2020\n",
       "7459  2020-12-14      0.0  INFLUENCER     12  2020\n",
       "7460  2020-12-14      0.0     DIGITAL     12  2020\n",
       "7482  2020-12-14  14519.0     DIGITAL     12  2020\n",
       "\n",
       "[3377 rows x 5 columns]"
      ]
     },
     "execution_count": 1494,
     "metadata": {},
     "output_type": "execute_result"
    }
   ],
   "source": [
    "media_spend"
   ]
  },
  {
   "cell_type": "code",
   "execution_count": 1495,
   "metadata": {
    "scrolled": true
   },
   "outputs": [],
   "source": [
    "mt_dict = {}\n",
    "for mt in media_types:\n",
    "    mt_dict[mt] = media_spend.loc[media_spend['Media Type'] == mt].groupby(['Year', 'Month']).agg({'AMT':'sum'}).rename(columns = {'AMT':'Monthly Media Spend'}).reset_index()"
   ]
  },
  {
   "cell_type": "code",
   "execution_count": 1496,
   "metadata": {},
   "outputs": [],
   "source": [
    "for key in mt_dict:\n",
    "    df = mt_dict[key]\n",
    "    new_df = pd.merge(monthly_consumption, df, on = ['Year', 'Month'])\n",
    "    \n",
    "    mt_dict[key] = new_df"
   ]
  },
  {
   "cell_type": "code",
   "execution_count": 1497,
   "metadata": {
    "scrolled": true
   },
   "outputs": [
    {
     "name": "stdout",
     "output_type": "stream",
     "text": [
      "TV -0.06\n",
      "DIGITAL -0.17\n",
      "PRINT -0.04\n",
      "VOD -0.07\n",
      "RADIO -0.11\n",
      "SPONSORSHIP -0.22\n",
      "BASEBALL -0.31\n",
      "BILLBOARD 0.54\n",
      "INFLUENCERS/DIGITAL -0.18\n",
      "INFLUENCER -0.34\n"
     ]
    }
   ],
   "source": [
    "for mt in media_types:\n",
    "    print(mt, round(mt_dict[mt].corr().iloc[2,3],2))"
   ]
  },
  {
   "cell_type": "markdown",
   "metadata": {},
   "source": [
    "Lag one month:"
   ]
  },
  {
   "cell_type": "code",
   "execution_count": 1601,
   "metadata": {},
   "outputs": [],
   "source": [
    "for key in mt_dict: \n",
    "    df = mt_dict[key]\n",
    "    for row in range(0, len(df)-1):\n",
    "        df.loc[row, 'Lagged Monthly Consumption'] = df.loc[row+1,'Monthly Consumption']\n",
    "    for row in range(0, len(df)):\n",
    "        df.loc[row, 'Date Rank'] = row+1\n",
    "    mt_dict[key] = df"
   ]
  },
  {
   "cell_type": "code",
   "execution_count": 1602,
   "metadata": {},
   "outputs": [
    {
     "name": "stdout",
     "output_type": "stream",
     "text": [
      "TV 0.24\n",
      "DIGITAL -0.06\n",
      "PRINT -0.15\n",
      "VOD 0.17\n",
      "RADIO -0.08\n",
      "SPONSORSHIP -0.08\n",
      "BASEBALL -0.29\n",
      "BILLBOARD 0.21\n",
      "INFLUENCERS/DIGITAL 0.46\n",
      "INFLUENCER -0.38\n"
     ]
    }
   ],
   "source": [
    "for mt in media_types:\n",
    "    print(mt, round(mt_dict[mt].corr().iloc[3,4],2))"
   ]
  },
  {
   "cell_type": "code",
   "execution_count": 1500,
   "metadata": {},
   "outputs": [
    {
     "data": {
      "text/html": [
       "<div>\n",
       "<style scoped>\n",
       "    .dataframe tbody tr th:only-of-type {\n",
       "        vertical-align: middle;\n",
       "    }\n",
       "\n",
       "    .dataframe tbody tr th {\n",
       "        vertical-align: top;\n",
       "    }\n",
       "\n",
       "    .dataframe thead th {\n",
       "        text-align: right;\n",
       "    }\n",
       "</style>\n",
       "<table border=\"1\" class=\"dataframe\">\n",
       "  <thead>\n",
       "    <tr style=\"text-align: right;\">\n",
       "      <th></th>\n",
       "      <th>Year</th>\n",
       "      <th>Month</th>\n",
       "      <th>Monthly Consumption</th>\n",
       "      <th>Monthly Media Spend</th>\n",
       "      <th>Lagged Monthly Consumption</th>\n",
       "      <th>Date Rank</th>\n",
       "    </tr>\n",
       "  </thead>\n",
       "  <tbody>\n",
       "    <tr>\n",
       "      <td>0</td>\n",
       "      <td>2016</td>\n",
       "      <td>1</td>\n",
       "      <td>6.845440e+06</td>\n",
       "      <td>3.629915e+05</td>\n",
       "      <td>5.582913e+06</td>\n",
       "      <td>1.0</td>\n",
       "    </tr>\n",
       "    <tr>\n",
       "      <td>1</td>\n",
       "      <td>2016</td>\n",
       "      <td>2</td>\n",
       "      <td>5.582913e+06</td>\n",
       "      <td>3.914958e+06</td>\n",
       "      <td>6.963284e+06</td>\n",
       "      <td>2.0</td>\n",
       "    </tr>\n",
       "    <tr>\n",
       "      <td>2</td>\n",
       "      <td>2016</td>\n",
       "      <td>3</td>\n",
       "      <td>6.963284e+06</td>\n",
       "      <td>1.088975e+06</td>\n",
       "      <td>5.738292e+06</td>\n",
       "      <td>3.0</td>\n",
       "    </tr>\n",
       "    <tr>\n",
       "      <td>3</td>\n",
       "      <td>2016</td>\n",
       "      <td>4</td>\n",
       "      <td>5.738292e+06</td>\n",
       "      <td>1.649581e+06</td>\n",
       "      <td>7.252815e+06</td>\n",
       "      <td>4.0</td>\n",
       "    </tr>\n",
       "    <tr>\n",
       "      <td>4</td>\n",
       "      <td>2016</td>\n",
       "      <td>5</td>\n",
       "      <td>7.252815e+06</td>\n",
       "      <td>2.211603e+06</td>\n",
       "      <td>5.752177e+06</td>\n",
       "      <td>5.0</td>\n",
       "    </tr>\n",
       "  </tbody>\n",
       "</table>\n",
       "</div>"
      ],
      "text/plain": [
       "   Year  Month  Monthly Consumption  Monthly Media Spend  \\\n",
       "0  2016      1         6.845440e+06         3.629915e+05   \n",
       "1  2016      2         5.582913e+06         3.914958e+06   \n",
       "2  2016      3         6.963284e+06         1.088975e+06   \n",
       "3  2016      4         5.738292e+06         1.649581e+06   \n",
       "4  2016      5         7.252815e+06         2.211603e+06   \n",
       "\n",
       "   Lagged Monthly Consumption  Date Rank  \n",
       "0                5.582913e+06        1.0  \n",
       "1                6.963284e+06        2.0  \n",
       "2                5.738292e+06        3.0  \n",
       "3                7.252815e+06        4.0  \n",
       "4                5.752177e+06        5.0  "
      ]
     },
     "execution_count": 1500,
     "metadata": {},
     "output_type": "execute_result"
    }
   ],
   "source": [
    "mt_dict['TV'].head()"
   ]
  },
  {
   "cell_type": "code",
   "execution_count": 1501,
   "metadata": {
    "scrolled": true
   },
   "outputs": [
    {
     "data": {
      "text/plain": [
       "<matplotlib.axes._subplots.AxesSubplot at 0x21bca3f4748>"
      ]
     },
     "execution_count": 1501,
     "metadata": {},
     "output_type": "execute_result"
    },
    {
     "data": {
      "image/png": "[encoded data removed]",
      "text/plain": [
       "<Figure size 1440x504 with 1 Axes>"
      ]
     },
     "metadata": {
      "needs_background": "light"
     },
     "output_type": "display_data"
    }
   ],
   "source": [
    "df = mt_dict['BILLBOARD']\n",
    "fig = plt.figure(figsize = (20,7))\n",
    "sns.lineplot(data = df, x = 'Date Rank', y = 'Monthly Media Spend', color = 'red', size = 5)\n",
    "sns.lineplot(data = df, x = 'Date Rank', y = 'Lagged Monthly Consumption', color = 'teal', size =5)"
   ]
  },
  {
   "cell_type": "markdown",
   "metadata": {},
   "source": [
    "Lag two months"
   ]
  },
  {
   "cell_type": "code",
   "execution_count": 1594,
   "metadata": {},
   "outputs": [],
   "source": [
    "for key in mt_dict: \n",
    "    df = mt_dict[key]\n",
    "    for row in range(0, len(df)-2):\n",
    "        df.loc[row, 'Lagged 2-Month Consumption'] = (df.loc[row+1,'Monthly Consumption'] + df.loc[row+2, 'Monthly Consumption']) / 2\n",
    "\n",
    "    mt_dict[key] = df"
   ]
  },
  {
   "cell_type": "code",
   "execution_count": 1600,
   "metadata": {},
   "outputs": [
    {
     "data": {
      "text/html": [
       "<div>\n",
       "<style scoped>\n",
       "    .dataframe tbody tr th:only-of-type {\n",
       "        vertical-align: middle;\n",
       "    }\n",
       "\n",
       "    .dataframe tbody tr th {\n",
       "        vertical-align: top;\n",
       "    }\n",
       "\n",
       "    .dataframe thead th {\n",
       "        text-align: right;\n",
       "    }\n",
       "</style>\n",
       "<table border=\"1\" class=\"dataframe\">\n",
       "  <thead>\n",
       "    <tr style=\"text-align: right;\">\n",
       "      <th></th>\n",
       "      <th>Year</th>\n",
       "      <th>Month</th>\n",
       "      <th>Monthly Consumption</th>\n",
       "      <th>Monthly Media Spend</th>\n",
       "      <th>Lagged Monthly Consumption</th>\n",
       "      <th>Date Rank</th>\n",
       "      <th>Lagged 2-Month Consumption</th>\n",
       "    </tr>\n",
       "  </thead>\n",
       "  <tbody>\n",
       "    <tr>\n",
       "      <td>Year</td>\n",
       "      <td>1.000000</td>\n",
       "      <td>-0.107662</td>\n",
       "      <td>0.108889</td>\n",
       "      <td>-0.084576</td>\n",
       "      <td>0.123336</td>\n",
       "      <td>0.978988</td>\n",
       "      <td>0.196848</td>\n",
       "    </tr>\n",
       "    <tr>\n",
       "      <td>Month</td>\n",
       "      <td>-0.107662</td>\n",
       "      <td>1.000000</td>\n",
       "      <td>0.495909</td>\n",
       "      <td>-0.068334</td>\n",
       "      <td>0.381831</td>\n",
       "      <td>0.097332</td>\n",
       "      <td>0.403542</td>\n",
       "    </tr>\n",
       "    <tr>\n",
       "      <td>Monthly Consumption</td>\n",
       "      <td>0.108889</td>\n",
       "      <td>0.495909</td>\n",
       "      <td>1.000000</td>\n",
       "      <td>-0.062180</td>\n",
       "      <td>0.189953</td>\n",
       "      <td>0.210721</td>\n",
       "      <td>0.017327</td>\n",
       "    </tr>\n",
       "    <tr>\n",
       "      <td>Monthly Media Spend</td>\n",
       "      <td>-0.084576</td>\n",
       "      <td>-0.068334</td>\n",
       "      <td>-0.062180</td>\n",
       "      <td>1.000000</td>\n",
       "      <td>0.244118</td>\n",
       "      <td>-0.098683</td>\n",
       "      <td>0.122989</td>\n",
       "    </tr>\n",
       "    <tr>\n",
       "      <td>Lagged Monthly Consumption</td>\n",
       "      <td>0.123336</td>\n",
       "      <td>0.381831</td>\n",
       "      <td>0.189953</td>\n",
       "      <td>0.244118</td>\n",
       "      <td>1.000000</td>\n",
       "      <td>0.204049</td>\n",
       "      <td>0.767129</td>\n",
       "    </tr>\n",
       "    <tr>\n",
       "      <td>Date Rank</td>\n",
       "      <td>0.978988</td>\n",
       "      <td>0.097332</td>\n",
       "      <td>0.210721</td>\n",
       "      <td>-0.098683</td>\n",
       "      <td>0.204049</td>\n",
       "      <td>1.000000</td>\n",
       "      <td>0.285405</td>\n",
       "    </tr>\n",
       "    <tr>\n",
       "      <td>Lagged 2-Month Consumption</td>\n",
       "      <td>0.196848</td>\n",
       "      <td>0.403542</td>\n",
       "      <td>0.017327</td>\n",
       "      <td>0.122989</td>\n",
       "      <td>0.767129</td>\n",
       "      <td>0.285405</td>\n",
       "      <td>1.000000</td>\n",
       "    </tr>\n",
       "  </tbody>\n",
       "</table>\n",
       "</div>"
      ],
      "text/plain": [
       "                                Year     Month  Monthly Consumption  \\\n",
       "Year                        1.000000 -0.107662             0.108889   \n",
       "Month                      -0.107662  1.000000             0.495909   \n",
       "Monthly Consumption         0.108889  0.495909             1.000000   \n",
       "Monthly Media Spend        -0.084576 -0.068334            -0.062180   \n",
       "Lagged Monthly Consumption  0.123336  0.381831             0.189953   \n",
       "Date Rank                   0.978988  0.097332             0.210721   \n",
       "Lagged 2-Month Consumption  0.196848  0.403542             0.017327   \n",
       "\n",
       "                            Monthly Media Spend  Lagged Monthly Consumption  \\\n",
       "Year                                  -0.084576                    0.123336   \n",
       "Month                                 -0.068334                    0.381831   \n",
       "Monthly Consumption                   -0.062180                    0.189953   \n",
       "Monthly Media Spend                    1.000000                    0.244118   \n",
       "Lagged Monthly Consumption             0.244118                    1.000000   \n",
       "Date Rank                             -0.098683                    0.204049   \n",
       "Lagged 2-Month Consumption             0.122989                    0.767129   \n",
       "\n",
       "                            Date Rank  Lagged 2-Month Consumption  \n",
       "Year                         0.978988                    0.196848  \n",
       "Month                        0.097332                    0.403542  \n",
       "Monthly Consumption          0.210721                    0.017327  \n",
       "Monthly Media Spend         -0.098683                    0.122989  \n",
       "Lagged Monthly Consumption   0.204049                    0.767129  \n",
       "Date Rank                    1.000000                    0.285405  \n",
       "Lagged 2-Month Consumption   0.285405                    1.000000  "
      ]
     },
     "execution_count": 1600,
     "metadata": {},
     "output_type": "execute_result"
    }
   ],
   "source": [
    "mt_dict['TV'].corr()"
   ]
  },
  {
   "cell_type": "code",
   "execution_count": 1606,
   "metadata": {
    "scrolled": true
   },
   "outputs": [
    {
     "name": "stdout",
     "output_type": "stream",
     "text": [
      "Media Type \t\t Two Month Lag \t\t Two Month Lag\n",
      "TV\t\t\t0.24\t\t\t0.12\n",
      "DIGITAL\t\t\t-0.06\t\t\t-0.04\n",
      "PRINT\t\t\t-0.15\t\t\t0.07\n",
      "VOD\t\t\t0.17\t\t\t-0.07\n",
      "RADIO\t\t\t-0.08\t\t\t-0.15\n",
      "SPONSORSHIP\t\t\t-0.08\t\t\t-0.16\n",
      "BASEBALL\t\t\t-0.29\t\t\t-0.36\n",
      "BILLBOARD\t\t\t0.21\t\t\t0.1\n",
      "INFLUENCERS/DIGITAL\t\t\t0.46\t\t\t0.97\n",
      "INFLUENCER\t\t\t-0.38\t\t\t-0.55\n"
     ]
    }
   ],
   "source": [
    "print(f'Media Type \\t\\t Two Month Lag \\t\\t Two Month Lag')\n",
    "\n",
    "for mt in media_types:\n",
    "    print(f'{mt}\\t\\t\\t{round(mt_dict[mt].corr().iloc[3,4],2)}\\t\\t\\t{round(mt_dict[mt].corr().iloc[3,6],2)}')\n",
    "    \n"
   ]
  },
  {
   "cell_type": "code",
   "execution_count": 1607,
   "metadata": {},
   "outputs": [],
   "source": [
    "table = []\n",
    "\n",
    "for mt in media_types:\n",
    "    data = [mt, round(mt_dict[mt].corr().iloc[3,4],2),round(mt_dict[mt].corr().iloc[3,6],2)]\n",
    "    table.append(data)"
   ]
  },
  {
   "cell_type": "code",
   "execution_count": 1610,
   "metadata": {},
   "outputs": [],
   "source": [
    "correlations = pd.DataFrame(table)"
   ]
  },
  {
   "cell_type": "code",
   "execution_count": 1611,
   "metadata": {},
   "outputs": [],
   "source": [
    "correlations.columns = ['Media Type', 'One Month Lag', 'Two Month Lag']"
   ]
  },
  {
   "cell_type": "code",
   "execution_count": 1620,
   "metadata": {},
   "outputs": [],
   "source": [
    "correlations['Lag Average'] = round((correlations['One Month Lag'] + correlations['Two Month Lag']) / 2, 2)"
   ]
  },
  {
   "cell_type": "code",
   "execution_count": 1623,
   "metadata": {},
   "outputs": [],
   "source": [
    "correlations.to_csv('correlations.csv')"
   ]
  },
  {
   "cell_type": "markdown",
   "metadata": {},
   "source": [
    "### Inspecting the 2019 Peak"
   ]
  },
  {
   "cell_type": "code",
   "execution_count": 1502,
   "metadata": {},
   "outputs": [],
   "source": [
    "month11 = media_spend.loc[(media_spend['Month'] == 12) | (media_spend['Month'] == 11)]"
   ]
  },
  {
   "cell_type": "code",
   "execution_count": 1503,
   "metadata": {},
   "outputs": [],
   "source": [
    "month11 = month11.groupby(['Media Type', 'Year']).agg({'AMT':'sum'}).reset_index()"
   ]
  },
  {
   "cell_type": "code",
   "execution_count": 1504,
   "metadata": {},
   "outputs": [],
   "source": [
    "other_years = month11.loc[month11['Year'] != 2019]\n",
    "year2019 = month11.loc[month11['Year'] == 2019].reset_index()"
   ]
  },
  {
   "cell_type": "code",
   "execution_count": 1505,
   "metadata": {},
   "outputs": [],
   "source": [
    "other_years_grouped = other_years.groupby('Media Type').agg({'AMT':'mean'}).reset_index()"
   ]
  },
  {
   "cell_type": "code",
   "execution_count": 1506,
   "metadata": {},
   "outputs": [],
   "source": [
    "other_years_grouped['Year'] = 'Other Years'"
   ]
  },
  {
   "cell_type": "code",
   "execution_count": 1507,
   "metadata": {
    "scrolled": false
   },
   "outputs": [
    {
     "name": "stderr",
     "output_type": "stream",
     "text": [
      "C:\\Users\\zapcu\\Anaconda3\\lib\\site-packages\\ipykernel_launcher.py:1: FutureWarning: Sorting because non-concatenation axis is not aligned. A future version\n",
      "of pandas will change to not sort by default.\n",
      "\n",
      "To accept the future behavior, pass 'sort=False'.\n",
      "\n",
      "To retain the current behavior and silence the warning, pass 'sort=True'.\n",
      "\n",
      "  \"\"\"Entry point for launching an IPython kernel.\n"
     ]
    }
   ],
   "source": [
    "compare_2019 = pd.concat([other_years_grouped, year2019])"
   ]
  },
  {
   "cell_type": "code",
   "execution_count": 1508,
   "metadata": {},
   "outputs": [
    {
     "data": {
      "text/html": [
       "<div>\n",
       "<style scoped>\n",
       "    .dataframe tbody tr th:only-of-type {\n",
       "        vertical-align: middle;\n",
       "    }\n",
       "\n",
       "    .dataframe tbody tr th {\n",
       "        vertical-align: top;\n",
       "    }\n",
       "\n",
       "    .dataframe thead th {\n",
       "        text-align: right;\n",
       "    }\n",
       "</style>\n",
       "<table border=\"1\" class=\"dataframe\">\n",
       "  <thead>\n",
       "    <tr style=\"text-align: right;\">\n",
       "      <th></th>\n",
       "      <th>AMT</th>\n",
       "      <th>Media Type</th>\n",
       "      <th>Year</th>\n",
       "      <th>index</th>\n",
       "    </tr>\n",
       "  </thead>\n",
       "  <tbody>\n",
       "    <tr>\n",
       "      <td>0</td>\n",
       "      <td>0.000000e+00</td>\n",
       "      <td>BASEBALL</td>\n",
       "      <td>Other Years</td>\n",
       "      <td>NaN</td>\n",
       "    </tr>\n",
       "    <tr>\n",
       "      <td>1</td>\n",
       "      <td>0.000000e+00</td>\n",
       "      <td>BILLBOARD</td>\n",
       "      <td>Other Years</td>\n",
       "      <td>NaN</td>\n",
       "    </tr>\n",
       "    <tr>\n",
       "      <td>2</td>\n",
       "      <td>1.451900e+04</td>\n",
       "      <td>DIGITAL</td>\n",
       "      <td>Other Years</td>\n",
       "      <td>NaN</td>\n",
       "    </tr>\n",
       "    <tr>\n",
       "      <td>3</td>\n",
       "      <td>0.000000e+00</td>\n",
       "      <td>INFLUENCER</td>\n",
       "      <td>Other Years</td>\n",
       "      <td>NaN</td>\n",
       "    </tr>\n",
       "    <tr>\n",
       "      <td>4</td>\n",
       "      <td>0.000000e+00</td>\n",
       "      <td>INFLUENCERS/DIGITAL</td>\n",
       "      <td>Other Years</td>\n",
       "      <td>NaN</td>\n",
       "    </tr>\n",
       "    <tr>\n",
       "      <td>5</td>\n",
       "      <td>1.600000e+03</td>\n",
       "      <td>PRINT</td>\n",
       "      <td>Other Years</td>\n",
       "      <td>NaN</td>\n",
       "    </tr>\n",
       "    <tr>\n",
       "      <td>6</td>\n",
       "      <td>2.695975e+04</td>\n",
       "      <td>RADIO</td>\n",
       "      <td>Other Years</td>\n",
       "      <td>NaN</td>\n",
       "    </tr>\n",
       "    <tr>\n",
       "      <td>7</td>\n",
       "      <td>8.442650e+04</td>\n",
       "      <td>SPONSORSHIP</td>\n",
       "      <td>Other Years</td>\n",
       "      <td>NaN</td>\n",
       "    </tr>\n",
       "    <tr>\n",
       "      <td>8</td>\n",
       "      <td>1.328025e+06</td>\n",
       "      <td>TV</td>\n",
       "      <td>Other Years</td>\n",
       "      <td>NaN</td>\n",
       "    </tr>\n",
       "    <tr>\n",
       "      <td>9</td>\n",
       "      <td>4.967742e+04</td>\n",
       "      <td>VOD</td>\n",
       "      <td>Other Years</td>\n",
       "      <td>NaN</td>\n",
       "    </tr>\n",
       "    <tr>\n",
       "      <td>0</td>\n",
       "      <td>9.000000e+05</td>\n",
       "      <td>BILLBOARD</td>\n",
       "      <td>2019</td>\n",
       "      <td>2.0</td>\n",
       "    </tr>\n",
       "    <tr>\n",
       "      <td>1</td>\n",
       "      <td>1.794280e+05</td>\n",
       "      <td>DIGITAL</td>\n",
       "      <td>2019</td>\n",
       "      <td>7.0</td>\n",
       "    </tr>\n",
       "    <tr>\n",
       "      <td>2</td>\n",
       "      <td>0.000000e+00</td>\n",
       "      <td>INFLUENCER</td>\n",
       "      <td>2019</td>\n",
       "      <td>9.0</td>\n",
       "    </tr>\n",
       "    <tr>\n",
       "      <td>3</td>\n",
       "      <td>5.499999e+04</td>\n",
       "      <td>INFLUENCERS/DIGITAL</td>\n",
       "      <td>2019</td>\n",
       "      <td>12.0</td>\n",
       "    </tr>\n",
       "    <tr>\n",
       "      <td>4</td>\n",
       "      <td>0.000000e+00</td>\n",
       "      <td>PRINT</td>\n",
       "      <td>2019</td>\n",
       "      <td>16.0</td>\n",
       "    </tr>\n",
       "    <tr>\n",
       "      <td>5</td>\n",
       "      <td>0.000000e+00</td>\n",
       "      <td>RADIO</td>\n",
       "      <td>2019</td>\n",
       "      <td>21.0</td>\n",
       "    </tr>\n",
       "    <tr>\n",
       "      <td>6</td>\n",
       "      <td>0.000000e+00</td>\n",
       "      <td>SPONSORSHIP</td>\n",
       "      <td>2019</td>\n",
       "      <td>26.0</td>\n",
       "    </tr>\n",
       "    <tr>\n",
       "      <td>7</td>\n",
       "      <td>4.614981e+06</td>\n",
       "      <td>TV</td>\n",
       "      <td>2019</td>\n",
       "      <td>31.0</td>\n",
       "    </tr>\n",
       "    <tr>\n",
       "      <td>8</td>\n",
       "      <td>2.960321e+05</td>\n",
       "      <td>VOD</td>\n",
       "      <td>2019</td>\n",
       "      <td>36.0</td>\n",
       "    </tr>\n",
       "  </tbody>\n",
       "</table>\n",
       "</div>"
      ],
      "text/plain": [
       "            AMT           Media Type         Year  index\n",
       "0  0.000000e+00             BASEBALL  Other Years    NaN\n",
       "1  0.000000e+00            BILLBOARD  Other Years    NaN\n",
       "2  1.451900e+04              DIGITAL  Other Years    NaN\n",
       "3  0.000000e+00           INFLUENCER  Other Years    NaN\n",
       "4  0.000000e+00  INFLUENCERS/DIGITAL  Other Years    NaN\n",
       "5  1.600000e+03                PRINT  Other Years    NaN\n",
       "6  2.695975e+04                RADIO  Other Years    NaN\n",
       "7  8.442650e+04          SPONSORSHIP  Other Years    NaN\n",
       "8  1.328025e+06                   TV  Other Years    NaN\n",
       "9  4.967742e+04                  VOD  Other Years    NaN\n",
       "0  9.000000e+05            BILLBOARD         2019    2.0\n",
       "1  1.794280e+05              DIGITAL         2019    7.0\n",
       "2  0.000000e+00           INFLUENCER         2019    9.0\n",
       "3  5.499999e+04  INFLUENCERS/DIGITAL         2019   12.0\n",
       "4  0.000000e+00                PRINT         2019   16.0\n",
       "5  0.000000e+00                RADIO         2019   21.0\n",
       "6  0.000000e+00          SPONSORSHIP         2019   26.0\n",
       "7  4.614981e+06                   TV         2019   31.0\n",
       "8  2.960321e+05                  VOD         2019   36.0"
      ]
     },
     "execution_count": 1508,
     "metadata": {},
     "output_type": "execute_result"
    }
   ],
   "source": [
    "compare_2019"
   ]
  },
  {
   "cell_type": "code",
   "execution_count": 1624,
   "metadata": {},
   "outputs": [
    {
     "data": {
      "text/plain": [
       "Text(0, 0.5, 'Media Spend ($)')"
      ]
     },
     "execution_count": 1624,
     "metadata": {},
     "output_type": "execute_result"
    },
    {
     "data": {
      "image/png": "[encoded data removed]",
      "text/plain": [
       "<Figure size 1440x504 with 1 Axes>"
      ]
     },
     "metadata": {
      "needs_background": "light"
     },
     "output_type": "display_data"
    }
   ],
   "source": [
    "fig = plt.figure(figsize = (20,7))\n",
    "\n",
    "sns.barplot(data = compare_2019, x = 'Media Type', y = 'AMT', hue = 'Year')\n",
    "plt.ylabel('Media Spend ($)')"
   ]
  },
  {
   "cell_type": "markdown",
   "metadata": {},
   "source": [
    "### Calculating ROS ratios in Dec 2019 vs other years"
   ]
  },
  {
   "cell_type": "code",
   "execution_count": 1540,
   "metadata": {
    "scrolled": true
   },
   "outputs": [],
   "source": [
    "for key in mt_dict:\n",
    "    df = mt_dict[key]\n",
    "    df['Media Type'] = key\n",
    "    mt_dict[key] = df"
   ]
  },
  {
   "cell_type": "code",
   "execution_count": 1541,
   "metadata": {},
   "outputs": [],
   "source": [
    "l = []\n",
    "\n",
    "for key in mt_dict:\n",
    "    l.append(mt_dict[key])"
   ]
  },
  {
   "cell_type": "code",
   "execution_count": 1542,
   "metadata": {},
   "outputs": [],
   "source": [
    "media_master = pd.concat(l).reset_index().drop('index', axis = 1).dropna(axis = 0)"
   ]
  },
  {
   "cell_type": "code",
   "execution_count": 1529,
   "metadata": {},
   "outputs": [
    {
     "data": {
      "text/html": [
       "<div>\n",
       "<style scoped>\n",
       "    .dataframe tbody tr th:only-of-type {\n",
       "        vertical-align: middle;\n",
       "    }\n",
       "\n",
       "    .dataframe tbody tr th {\n",
       "        vertical-align: top;\n",
       "    }\n",
       "\n",
       "    .dataframe thead th {\n",
       "        text-align: right;\n",
       "    }\n",
       "</style>\n",
       "<table border=\"1\" class=\"dataframe\">\n",
       "  <thead>\n",
       "    <tr style=\"text-align: right;\">\n",
       "      <th></th>\n",
       "      <th>Year</th>\n",
       "      <th>Month</th>\n",
       "      <th>Monthly Consumption</th>\n",
       "      <th>Monthly Media Spend</th>\n",
       "      <th>Lagged Monthly Consumption</th>\n",
       "      <th>Date Rank</th>\n",
       "      <th>Media Type</th>\n",
       "    </tr>\n",
       "  </thead>\n",
       "  <tbody>\n",
       "    <tr>\n",
       "      <td>0</td>\n",
       "      <td>2016</td>\n",
       "      <td>1</td>\n",
       "      <td>6.845440e+06</td>\n",
       "      <td>3.629915e+05</td>\n",
       "      <td>5.582913e+06</td>\n",
       "      <td>1.0</td>\n",
       "      <td>TV</td>\n",
       "    </tr>\n",
       "    <tr>\n",
       "      <td>1</td>\n",
       "      <td>2016</td>\n",
       "      <td>2</td>\n",
       "      <td>5.582913e+06</td>\n",
       "      <td>3.914958e+06</td>\n",
       "      <td>6.963284e+06</td>\n",
       "      <td>2.0</td>\n",
       "      <td>TV</td>\n",
       "    </tr>\n",
       "    <tr>\n",
       "      <td>2</td>\n",
       "      <td>2016</td>\n",
       "      <td>3</td>\n",
       "      <td>6.963284e+06</td>\n",
       "      <td>1.088975e+06</td>\n",
       "      <td>5.738292e+06</td>\n",
       "      <td>3.0</td>\n",
       "      <td>TV</td>\n",
       "    </tr>\n",
       "    <tr>\n",
       "      <td>3</td>\n",
       "      <td>2016</td>\n",
       "      <td>4</td>\n",
       "      <td>5.738292e+06</td>\n",
       "      <td>1.649581e+06</td>\n",
       "      <td>7.252815e+06</td>\n",
       "      <td>4.0</td>\n",
       "      <td>TV</td>\n",
       "    </tr>\n",
       "    <tr>\n",
       "      <td>4</td>\n",
       "      <td>2016</td>\n",
       "      <td>5</td>\n",
       "      <td>7.252815e+06</td>\n",
       "      <td>2.211603e+06</td>\n",
       "      <td>5.752177e+06</td>\n",
       "      <td>5.0</td>\n",
       "      <td>TV</td>\n",
       "    </tr>\n",
       "    <tr>\n",
       "      <td>...</td>\n",
       "      <td>...</td>\n",
       "      <td>...</td>\n",
       "      <td>...</td>\n",
       "      <td>...</td>\n",
       "      <td>...</td>\n",
       "      <td>...</td>\n",
       "      <td>...</td>\n",
       "    </tr>\n",
       "    <tr>\n",
       "      <td>362</td>\n",
       "      <td>2020</td>\n",
       "      <td>4</td>\n",
       "      <td>9.369658e+06</td>\n",
       "      <td>0.000000e+00</td>\n",
       "      <td>9.367418e+06</td>\n",
       "      <td>5.0</td>\n",
       "      <td>INFLUENCER</td>\n",
       "    </tr>\n",
       "    <tr>\n",
       "      <td>363</td>\n",
       "      <td>2020</td>\n",
       "      <td>5</td>\n",
       "      <td>9.367418e+06</td>\n",
       "      <td>0.000000e+00</td>\n",
       "      <td>7.302470e+06</td>\n",
       "      <td>6.0</td>\n",
       "      <td>INFLUENCER</td>\n",
       "    </tr>\n",
       "    <tr>\n",
       "      <td>364</td>\n",
       "      <td>2020</td>\n",
       "      <td>6</td>\n",
       "      <td>7.302470e+06</td>\n",
       "      <td>0.000000e+00</td>\n",
       "      <td>8.033289e+06</td>\n",
       "      <td>7.0</td>\n",
       "      <td>INFLUENCER</td>\n",
       "    </tr>\n",
       "    <tr>\n",
       "      <td>365</td>\n",
       "      <td>2020</td>\n",
       "      <td>7</td>\n",
       "      <td>8.033289e+06</td>\n",
       "      <td>1.200000e+05</td>\n",
       "      <td>9.090270e+06</td>\n",
       "      <td>8.0</td>\n",
       "      <td>INFLUENCER</td>\n",
       "    </tr>\n",
       "    <tr>\n",
       "      <td>366</td>\n",
       "      <td>2020</td>\n",
       "      <td>8</td>\n",
       "      <td>9.090270e+06</td>\n",
       "      <td>1.160000e+05</td>\n",
       "      <td>4.226816e+06</td>\n",
       "      <td>9.0</td>\n",
       "      <td>INFLUENCER</td>\n",
       "    </tr>\n",
       "  </tbody>\n",
       "</table>\n",
       "<p>358 rows × 7 columns</p>\n",
       "</div>"
      ],
      "text/plain": [
       "     Year  Month  Monthly Consumption  Monthly Media Spend  \\\n",
       "0    2016      1         6.845440e+06         3.629915e+05   \n",
       "1    2016      2         5.582913e+06         3.914958e+06   \n",
       "2    2016      3         6.963284e+06         1.088975e+06   \n",
       "3    2016      4         5.738292e+06         1.649581e+06   \n",
       "4    2016      5         7.252815e+06         2.211603e+06   \n",
       "..    ...    ...                  ...                  ...   \n",
       "362  2020      4         9.369658e+06         0.000000e+00   \n",
       "363  2020      5         9.367418e+06         0.000000e+00   \n",
       "364  2020      6         7.302470e+06         0.000000e+00   \n",
       "365  2020      7         8.033289e+06         1.200000e+05   \n",
       "366  2020      8         9.090270e+06         1.160000e+05   \n",
       "\n",
       "     Lagged Monthly Consumption  Date Rank  Media Type  \n",
       "0                  5.582913e+06        1.0          TV  \n",
       "1                  6.963284e+06        2.0          TV  \n",
       "2                  5.738292e+06        3.0          TV  \n",
       "3                  7.252815e+06        4.0          TV  \n",
       "4                  5.752177e+06        5.0          TV  \n",
       "..                          ...        ...         ...  \n",
       "362                9.367418e+06        5.0  INFLUENCER  \n",
       "363                7.302470e+06        6.0  INFLUENCER  \n",
       "364                8.033289e+06        7.0  INFLUENCER  \n",
       "365                9.090270e+06        8.0  INFLUENCER  \n",
       "366                4.226816e+06        9.0  INFLUENCER  \n",
       "\n",
       "[358 rows x 7 columns]"
      ]
     },
     "execution_count": 1529,
     "metadata": {},
     "output_type": "execute_result"
    }
   ],
   "source": [
    "media_master"
   ]
  },
  {
   "cell_type": "code",
   "execution_count": 1543,
   "metadata": {},
   "outputs": [],
   "source": [
    "key_months = media_master.loc[(media_master['Month'] == 10) | (media_master['Month'] == 11) | (media_master['Month'] == 12)]"
   ]
  },
  {
   "cell_type": "code",
   "execution_count": 1544,
   "metadata": {},
   "outputs": [],
   "source": [
    "grouped_key_months = key_months.groupby(['Media Type', 'Year']).agg({'Monthly Media Spend':'sum', 'Monthly Consumption':'sum'}).reset_index()"
   ]
  },
  {
   "cell_type": "code",
   "execution_count": 1545,
   "metadata": {},
   "outputs": [],
   "source": [
    "gkm2019 = grouped_key_months.loc[grouped_key_months['Year'] == 2019]\n",
    "gkmother = grouped_key_months.loc[grouped_key_months['Year'] != 2019]"
   ]
  },
  {
   "cell_type": "code",
   "execution_count": 1546,
   "metadata": {},
   "outputs": [
    {
     "name": "stderr",
     "output_type": "stream",
     "text": [
      "C:\\Users\\zapcu\\Anaconda3\\lib\\site-packages\\ipykernel_launcher.py:1: SettingWithCopyWarning: \n",
      "A value is trying to be set on a copy of a slice from a DataFrame.\n",
      "Try using .loc[row_indexer,col_indexer] = value instead\n",
      "\n",
      "See the caveats in the documentation: http://pandas.pydata.org/pandas-docs/stable/user_guide/indexing.html#returning-a-view-versus-a-copy\n",
      "  \"\"\"Entry point for launching an IPython kernel.\n"
     ]
    }
   ],
   "source": [
    "gkmother['Year'] = 'Other Years'"
   ]
  },
  {
   "cell_type": "code",
   "execution_count": 1547,
   "metadata": {},
   "outputs": [],
   "source": [
    "ROS = pd.concat([gkm2019, gkmother])"
   ]
  },
  {
   "cell_type": "code",
   "execution_count": 1550,
   "metadata": {},
   "outputs": [],
   "source": [
    "ROSpos = ROS.groupby(['Media Type', 'Year']).agg({'Monthly Media Spend':'sum', 'Monthly Consumption':'sum'}).reset_index()"
   ]
  },
  {
   "cell_type": "code",
   "execution_count": 1552,
   "metadata": {},
   "outputs": [],
   "source": [
    "ROSpos['ROS'] = ROSpos['Monthly Media Spend'] / ROSpos['Monthly Consumption']"
   ]
  },
  {
   "cell_type": "code",
   "execution_count": 1630,
   "metadata": {
    "scrolled": true
   },
   "outputs": [
    {
     "data": {
      "text/plain": [
       "Text(0, 0.5, '$ Spent per Unit Purchased')"
      ]
     },
     "execution_count": 1630,
     "metadata": {},
     "output_type": "execute_result"
    },
    {
     "data": {
      "image/png": "[encoded data removed]",
      "text/plain": [
       "<Figure size 432x360 with 1 Axes>"
      ]
     },
     "metadata": {
      "needs_background": "light"
     },
     "output_type": "display_data"
    }
   ],
   "source": [
    "fig = plt.figure(figsize = (6,5))\n",
    "ROSpos = ROSpos.loc[(ROSpos['Media Type'] == 'TV') | (ROSpos['Media Type'] == 'VOD')]\n",
    "sns.barplot(data = ROSpos, x = 'Media Type', y = 'ROS', hue = 'Year', ci = False)\n",
    "plt.ylabel('$ Spent per Unit Purchased')"
   ]
  },
  {
   "cell_type": "code",
   "execution_count": 1583,
   "metadata": {},
   "outputs": [],
   "source": [
    "m = media_master.loc[(media_master['Month'] == 11) | (media_master['Month'] == 12)]"
   ]
  },
  {
   "cell_type": "code",
   "execution_count": 1584,
   "metadata": {},
   "outputs": [],
   "source": [
    "km = m.groupby(['Media Type', 'Year']).agg({'Monthly Consumption':'sum', 'Monthly Media Spend':'sum'}).reset_index()"
   ]
  },
  {
   "cell_type": "code",
   "execution_count": 1585,
   "metadata": {},
   "outputs": [],
   "source": [
    "km2019 = km.loc[km['Year'] == 2019]\n",
    "kmother = km.loc[km['Year'] != 2019]"
   ]
  },
  {
   "cell_type": "code",
   "execution_count": 1586,
   "metadata": {},
   "outputs": [],
   "source": [
    "kmother = kmother.groupby('Media Type').agg({'Monthly Consumption':'mean', 'Monthly Media Spend':'mean'}).reset_index()"
   ]
  },
  {
   "cell_type": "code",
   "execution_count": 1587,
   "metadata": {},
   "outputs": [],
   "source": [
    "kmother['Year'] = 'Other Years'"
   ]
  },
  {
   "cell_type": "code",
   "execution_count": 1588,
   "metadata": {},
   "outputs": [
    {
     "name": "stderr",
     "output_type": "stream",
     "text": [
      "C:\\Users\\zapcu\\Anaconda3\\lib\\site-packages\\ipykernel_launcher.py:1: FutureWarning: Sorting because non-concatenation axis is not aligned. A future version\n",
      "of pandas will change to not sort by default.\n",
      "\n",
      "To accept the future behavior, pass 'sort=False'.\n",
      "\n",
      "To retain the current behavior and silence the warning, pass 'sort=True'.\n",
      "\n",
      "  \"\"\"Entry point for launching an IPython kernel.\n"
     ]
    }
   ],
   "source": [
    "kms = pd.concat([km2019, kmother]).reset_index().drop('index', axis = 1)"
   ]
  },
  {
   "cell_type": "code",
   "execution_count": 1591,
   "metadata": {},
   "outputs": [],
   "source": [
    "spend_diff = km2019['Monthly Media Spend'].sum() - kmother['Monthly Media Spend'].sum()"
   ]
  },
  {
   "cell_type": "code",
   "execution_count": 1592,
   "metadata": {},
   "outputs": [],
   "source": [
    "consumption_diff = km2019['Monthly Consumption'].sum() - kmother['Monthly Consumption'].sum()"
   ]
  },
  {
   "cell_type": "code",
   "execution_count": 1593,
   "metadata": {},
   "outputs": [
    {
     "data": {
      "text/plain": [
       "1.2479877368270682"
      ]
     },
     "execution_count": 1593,
     "metadata": {},
     "output_type": "execute_result"
    }
   ],
   "source": [
    "spend_diff / consumption_diff"
   ]
  }
 ],
 "metadata": {
  "kernelspec": {
   "display_name": "Python 3",
   "language": "python",
   "name": "python3"
  },
  "language_info": {
   "codemirror_mode": {
    "name": "ipython",
    "version": 3
   },
   "file_extension": ".py",
   "mimetype": "text/x-python",
   "name": "python",
   "nbconvert_exporter": "python",
   "pygments_lexer": "ipython3",
   "version": "3.7.4"
  },
  "varInspector": {
   "cols": {
    "lenName": 16,
    "lenType": 16,
    "lenVar": 40
   },
   "kernels_config": {
    "python": {
     "delete_cmd_postfix": "",
     "delete_cmd_prefix": "del ",
     "library": "var_list.py",
     "varRefreshCmd": "print(var_dic_list())"
    },
    "r": {
     "delete_cmd_postfix": ") ",
     "delete_cmd_prefix": "rm(",
     "library": "var_list.r",
     "varRefreshCmd": "cat(var_dic_list()) "
    }
   },
   "types_to_exclude": [
    "module",
    "function",
    "builtin_function_or_method",
    "instance",
    "_Feature"
   ],
   "window_display": false
  }
 },
 "nbformat": 4,
 "nbformat_minor": 2
}
